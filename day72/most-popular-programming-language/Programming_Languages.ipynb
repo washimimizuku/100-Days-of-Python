{
  "nbformat": 4,
  "nbformat_minor": 2,
  "metadata": {
    "kernelspec": {
      "name": "python3",
      "display_name": "Python 3.9.7 64-bit ('100-days-of-python-b3X5F5AV': venv)"
    },
    "language_info": {
      "codemirror_mode": {
        "name": "ipython",
        "version": 3
      },
      "file_extension": ".py",
      "mimetype": "text/x-python",
      "name": "python",
      "nbconvert_exporter": "python",
      "pygments_lexer": "ipython3",
      "version": "3.9.7"
    },
    "colab": {
      "name": "Programming Languages (start).ipynb",
      "provenance": []
    },
    "interpreter": {
      "hash": "9b7b5fd3d6c5e302221c75c5c358da79ea8e02da0d1be3e337463942090708a6"
    }
  },
  "cells": [
    {
      "cell_type": "markdown",
      "source": [
        "## Get the Data\n",
        "\n",
        "Either use the provided .csv file or (optionally) get fresh (the freshest?) data from running an SQL query on StackExchange: \n",
        "\n",
        "Follow this link to run the query from [StackExchange](https://data.stackexchange.com/stackoverflow/query/675441/popular-programming-languages-per-over-time-eversql-com) to get your own .csv file\n",
        "\n",
        "<code>\n",
        "select dateadd(month, datediff(month, 0, q.CreationDate), 0) m, TagName, count(*)\n",
        "from PostTags pt\n",
        "join Posts q on q.Id=pt.PostId\n",
        "join Tags t on t.Id=pt.TagId\n",
        "where TagName in ('java','c','c++','python','c#','javascript','assembly','php','perl','ruby','visual basic','swift','r','object-c','scratch','go','swift','delphi','rust','dart','kotlin')\n",
        "and q.CreationDate < dateadd(month, datediff(month, 0, getdate()), 0)\n",
        "group by dateadd(month, datediff(month, 0, q.CreationDate), 0), TagName\n",
        "order by dateadd(month, datediff(month, 0, q.CreationDate), 0)\n",
        "</code>"
      ],
      "metadata": {
        "id": "MAAKxOwsGxuj",
        "colab_type": "text"
      }
    },
    {
      "cell_type": "markdown",
      "source": [
        "## Import Statements"
      ],
      "metadata": {
        "id": "u5KcSXt1Gxuk",
        "colab_type": "text"
      }
    },
    {
      "cell_type": "code",
      "execution_count": 1,
      "source": [
        "import pandas as pd\n",
        "\n",
        "pd.options.display.float_format = '{:,.2f}'.format "
      ],
      "outputs": [],
      "metadata": {
        "id": "Ru4Wq-pXGxuk",
        "colab_type": "code",
        "colab": {}
      }
    },
    {
      "cell_type": "markdown",
      "source": [
        "## Data Exploration"
      ],
      "metadata": {
        "id": "xEP6beuEGxun",
        "colab_type": "text"
      }
    },
    {
      "cell_type": "markdown",
      "source": [
        "**Challenge**: Read the .csv file and store it in a Pandas dataframe"
      ],
      "metadata": {
        "id": "w3Q75B4CGxun",
        "colab_type": "text"
      }
    },
    {
      "cell_type": "code",
      "execution_count": 7,
      "source": [
        "df = pd.read_csv('QueryResults.csv', header=0, names=['DATE', 'TAG', 'POSTS'])"
      ],
      "outputs": [],
      "metadata": {
        "id": "Bm7hQtEGIiri",
        "colab_type": "code",
        "colab": {}
      }
    },
    {
      "cell_type": "markdown",
      "source": [
        "**Challenge**: Examine the first 5 rows and the last 5 rows of the of the dataframe"
      ],
      "metadata": {
        "id": "x2WnDM75Gxup",
        "colab_type": "text"
      }
    },
    {
      "cell_type": "code",
      "execution_count": 14,
      "source": [
        "df.head()"
      ],
      "outputs": [
        {
          "output_type": "execute_result",
          "data": {
            "text/html": [
              "<div>\n",
              "<style scoped>\n",
              "    .dataframe tbody tr th:only-of-type {\n",
              "        vertical-align: middle;\n",
              "    }\n",
              "\n",
              "    .dataframe tbody tr th {\n",
              "        vertical-align: top;\n",
              "    }\n",
              "\n",
              "    .dataframe thead th {\n",
              "        text-align: right;\n",
              "    }\n",
              "</style>\n",
              "<table border=\"1\" class=\"dataframe\">\n",
              "  <thead>\n",
              "    <tr style=\"text-align: right;\">\n",
              "      <th></th>\n",
              "      <th>DATE</th>\n",
              "      <th>TAG</th>\n",
              "      <th>POSTS</th>\n",
              "    </tr>\n",
              "  </thead>\n",
              "  <tbody>\n",
              "    <tr>\n",
              "      <th>0</th>\n",
              "      <td>2008-07-01 00:00:00</td>\n",
              "      <td>c#</td>\n",
              "      <td>3</td>\n",
              "    </tr>\n",
              "    <tr>\n",
              "      <th>1</th>\n",
              "      <td>2008-08-01 00:00:00</td>\n",
              "      <td>assembly</td>\n",
              "      <td>8</td>\n",
              "    </tr>\n",
              "    <tr>\n",
              "      <th>2</th>\n",
              "      <td>2008-08-01 00:00:00</td>\n",
              "      <td>javascript</td>\n",
              "      <td>163</td>\n",
              "    </tr>\n",
              "    <tr>\n",
              "      <th>3</th>\n",
              "      <td>2008-08-01 00:00:00</td>\n",
              "      <td>c</td>\n",
              "      <td>84</td>\n",
              "    </tr>\n",
              "    <tr>\n",
              "      <th>4</th>\n",
              "      <td>2008-08-01 00:00:00</td>\n",
              "      <td>python</td>\n",
              "      <td>124</td>\n",
              "    </tr>\n",
              "  </tbody>\n",
              "</table>\n",
              "</div>"
            ],
            "text/plain": [
              "                  DATE         TAG  POSTS\n",
              "0  2008-07-01 00:00:00          c#      3\n",
              "1  2008-08-01 00:00:00    assembly      8\n",
              "2  2008-08-01 00:00:00  javascript    163\n",
              "3  2008-08-01 00:00:00           c     84\n",
              "4  2008-08-01 00:00:00      python    124"
            ]
          },
          "metadata": {},
          "execution_count": 14
        }
      ],
      "metadata": {
        "id": "50oqpUxVIiJf",
        "colab_type": "code",
        "colab": {}
      }
    },
    {
      "cell_type": "code",
      "execution_count": 15,
      "source": [
        "df.tail()"
      ],
      "outputs": [
        {
          "output_type": "execute_result",
          "data": {
            "text/html": [
              "<div>\n",
              "<style scoped>\n",
              "    .dataframe tbody tr th:only-of-type {\n",
              "        vertical-align: middle;\n",
              "    }\n",
              "\n",
              "    .dataframe tbody tr th {\n",
              "        vertical-align: top;\n",
              "    }\n",
              "\n",
              "    .dataframe thead th {\n",
              "        text-align: right;\n",
              "    }\n",
              "</style>\n",
              "<table border=\"1\" class=\"dataframe\">\n",
              "  <thead>\n",
              "    <tr style=\"text-align: right;\">\n",
              "      <th></th>\n",
              "      <th>DATE</th>\n",
              "      <th>TAG</th>\n",
              "      <th>POSTS</th>\n",
              "    </tr>\n",
              "  </thead>\n",
              "  <tbody>\n",
              "    <tr>\n",
              "      <th>2632</th>\n",
              "      <td>2021-08-01 00:00:00</td>\n",
              "      <td>php</td>\n",
              "      <td>5163</td>\n",
              "    </tr>\n",
              "    <tr>\n",
              "      <th>2633</th>\n",
              "      <td>2021-08-01 00:00:00</td>\n",
              "      <td>swift</td>\n",
              "      <td>2306</td>\n",
              "    </tr>\n",
              "    <tr>\n",
              "      <th>2634</th>\n",
              "      <td>2021-08-01 00:00:00</td>\n",
              "      <td>r</td>\n",
              "      <td>4712</td>\n",
              "    </tr>\n",
              "    <tr>\n",
              "      <th>2635</th>\n",
              "      <td>2021-08-01 00:00:00</td>\n",
              "      <td>ruby</td>\n",
              "      <td>520</td>\n",
              "    </tr>\n",
              "    <tr>\n",
              "      <th>2636</th>\n",
              "      <td>2021-08-01 00:00:00</td>\n",
              "      <td>rust</td>\n",
              "      <td>505</td>\n",
              "    </tr>\n",
              "  </tbody>\n",
              "</table>\n",
              "</div>"
            ],
            "text/plain": [
              "                     DATE    TAG  POSTS\n",
              "2632  2021-08-01 00:00:00    php   5163\n",
              "2633  2021-08-01 00:00:00  swift   2306\n",
              "2634  2021-08-01 00:00:00      r   4712\n",
              "2635  2021-08-01 00:00:00   ruby    520\n",
              "2636  2021-08-01 00:00:00   rust    505"
            ]
          },
          "metadata": {},
          "execution_count": 15
        }
      ],
      "metadata": {}
    },
    {
      "cell_type": "markdown",
      "source": [
        "**Challenge:** Check how many rows and how many columns there are. \n",
        "What are the dimensions of the dataframe?"
      ],
      "metadata": {
        "id": "0o9hvVgyGxus",
        "colab_type": "text"
      }
    },
    {
      "cell_type": "code",
      "execution_count": 13,
      "source": [
        "df.shape"
      ],
      "outputs": [
        {
          "output_type": "execute_result",
          "data": {
            "text/plain": [
              "(2637, 3)"
            ]
          },
          "metadata": {},
          "execution_count": 13
        }
      ],
      "metadata": {
        "id": "ZUidjCPFIho8",
        "colab_type": "code",
        "colab": {}
      }
    },
    {
      "cell_type": "markdown",
      "source": [
        "**Challenge**: Count the number of entries in each column of the dataframe"
      ],
      "metadata": {
        "id": "ybZkNLmxGxuu",
        "colab_type": "text"
      }
    },
    {
      "cell_type": "code",
      "execution_count": 12,
      "source": [
        "df.count()"
      ],
      "outputs": [
        {
          "output_type": "execute_result",
          "data": {
            "text/plain": [
              "DATE     2637\n",
              "TAG      2637\n",
              "POSTS    2637\n",
              "dtype: int64"
            ]
          },
          "metadata": {},
          "execution_count": 12
        }
      ],
      "metadata": {
        "id": "Sc1dmmOoIg2g",
        "colab_type": "code",
        "colab": {}
      }
    },
    {
      "cell_type": "markdown",
      "source": [
        "**Challenge**: Calculate the total number of post per language.\n",
        "Which Programming language has had the highest total number of posts of all time?"
      ],
      "metadata": {
        "id": "hlnfFsscGxuw",
        "colab_type": "text"
      }
    },
    {
      "cell_type": "code",
      "execution_count": 28,
      "source": [
        "df.groupby('TAG').sum().sort_values('POSTS', ascending=False)"
      ],
      "outputs": [
        {
          "output_type": "execute_result",
          "data": {
            "text/html": [
              "<div>\n",
              "<style scoped>\n",
              "    .dataframe tbody tr th:only-of-type {\n",
              "        vertical-align: middle;\n",
              "    }\n",
              "\n",
              "    .dataframe tbody tr th {\n",
              "        vertical-align: top;\n",
              "    }\n",
              "\n",
              "    .dataframe thead th {\n",
              "        text-align: right;\n",
              "    }\n",
              "</style>\n",
              "<table border=\"1\" class=\"dataframe\">\n",
              "  <thead>\n",
              "    <tr style=\"text-align: right;\">\n",
              "      <th></th>\n",
              "      <th>POSTS</th>\n",
              "    </tr>\n",
              "    <tr>\n",
              "      <th>TAG</th>\n",
              "      <th></th>\n",
              "    </tr>\n",
              "  </thead>\n",
              "  <tbody>\n",
              "    <tr>\n",
              "      <th>javascript</th>\n",
              "      <td>2261130</td>\n",
              "    </tr>\n",
              "    <tr>\n",
              "      <th>java</th>\n",
              "      <td>1794183</td>\n",
              "    </tr>\n",
              "    <tr>\n",
              "      <th>python</th>\n",
              "      <td>1783053</td>\n",
              "    </tr>\n",
              "    <tr>\n",
              "      <th>c#</th>\n",
              "      <td>1494188</td>\n",
              "    </tr>\n",
              "    <tr>\n",
              "      <th>php</th>\n",
              "      <td>1411738</td>\n",
              "    </tr>\n",
              "    <tr>\n",
              "      <th>c++</th>\n",
              "      <td>735092</td>\n",
              "    </tr>\n",
              "    <tr>\n",
              "      <th>r</th>\n",
              "      <td>416455</td>\n",
              "    </tr>\n",
              "    <tr>\n",
              "      <th>c</th>\n",
              "      <td>363590</td>\n",
              "    </tr>\n",
              "    <tr>\n",
              "      <th>swift</th>\n",
              "      <td>301108</td>\n",
              "    </tr>\n",
              "    <tr>\n",
              "      <th>ruby</th>\n",
              "      <td>220676</td>\n",
              "    </tr>\n",
              "    <tr>\n",
              "      <th>perl</th>\n",
              "      <td>65842</td>\n",
              "    </tr>\n",
              "    <tr>\n",
              "      <th>kotlin</th>\n",
              "      <td>61722</td>\n",
              "    </tr>\n",
              "    <tr>\n",
              "      <th>dart</th>\n",
              "      <td>56134</td>\n",
              "    </tr>\n",
              "    <tr>\n",
              "      <th>go</th>\n",
              "      <td>55735</td>\n",
              "    </tr>\n",
              "    <tr>\n",
              "      <th>delphi</th>\n",
              "      <td>48452</td>\n",
              "    </tr>\n",
              "    <tr>\n",
              "      <th>assembly</th>\n",
              "      <td>38417</td>\n",
              "    </tr>\n",
              "    <tr>\n",
              "      <th>rust</th>\n",
              "      <td>23727</td>\n",
              "    </tr>\n",
              "    <tr>\n",
              "      <th>julia</th>\n",
              "      <td>9220</td>\n",
              "    </tr>\n",
              "  </tbody>\n",
              "</table>\n",
              "</div>"
            ],
            "text/plain": [
              "              POSTS\n",
              "TAG                \n",
              "javascript  2261130\n",
              "java        1794183\n",
              "python      1783053\n",
              "c#          1494188\n",
              "php         1411738\n",
              "c++          735092\n",
              "r            416455\n",
              "c            363590\n",
              "swift        301108\n",
              "ruby         220676\n",
              "perl          65842\n",
              "kotlin        61722\n",
              "dart          56134\n",
              "go            55735\n",
              "delphi        48452\n",
              "assembly      38417\n",
              "rust          23727\n",
              "julia          9220"
            ]
          },
          "metadata": {},
          "execution_count": 28
        }
      ],
      "metadata": {
        "id": "9-NYFONcIc1X",
        "colab_type": "code",
        "colab": {}
      }
    },
    {
      "cell_type": "markdown",
      "source": [
        "Some languages are older (e.g., C) and other languages are newer (e.g., Swift). The dataset starts in September 2008.\n",
        "\n",
        "**Challenge**: How many months of data exist per language? Which language had the fewest months with an entry? \n"
      ],
      "metadata": {
        "id": "iVCesB49Gxuz",
        "colab_type": "text"
      }
    },
    {
      "cell_type": "code",
      "execution_count": 27,
      "source": [
        "df.groupby('TAG').count().sort_values('POSTS', ascending=False)"
      ],
      "outputs": [
        {
          "output_type": "execute_result",
          "data": {
            "text/html": [
              "<div>\n",
              "<style scoped>\n",
              "    .dataframe tbody tr th:only-of-type {\n",
              "        vertical-align: middle;\n",
              "    }\n",
              "\n",
              "    .dataframe tbody tr th {\n",
              "        vertical-align: top;\n",
              "    }\n",
              "\n",
              "    .dataframe thead th {\n",
              "        text-align: right;\n",
              "    }\n",
              "</style>\n",
              "<table border=\"1\" class=\"dataframe\">\n",
              "  <thead>\n",
              "    <tr style=\"text-align: right;\">\n",
              "      <th></th>\n",
              "      <th>DATE</th>\n",
              "      <th>POSTS</th>\n",
              "    </tr>\n",
              "    <tr>\n",
              "      <th>TAG</th>\n",
              "      <th></th>\n",
              "      <th></th>\n",
              "    </tr>\n",
              "  </thead>\n",
              "  <tbody>\n",
              "    <tr>\n",
              "      <th>c#</th>\n",
              "      <td>158</td>\n",
              "      <td>158</td>\n",
              "    </tr>\n",
              "    <tr>\n",
              "      <th>assembly</th>\n",
              "      <td>157</td>\n",
              "      <td>157</td>\n",
              "    </tr>\n",
              "    <tr>\n",
              "      <th>php</th>\n",
              "      <td>157</td>\n",
              "      <td>157</td>\n",
              "    </tr>\n",
              "    <tr>\n",
              "      <th>c++</th>\n",
              "      <td>157</td>\n",
              "      <td>157</td>\n",
              "    </tr>\n",
              "    <tr>\n",
              "      <th>ruby</th>\n",
              "      <td>157</td>\n",
              "      <td>157</td>\n",
              "    </tr>\n",
              "    <tr>\n",
              "      <th>delphi</th>\n",
              "      <td>157</td>\n",
              "      <td>157</td>\n",
              "    </tr>\n",
              "    <tr>\n",
              "      <th>java</th>\n",
              "      <td>157</td>\n",
              "      <td>157</td>\n",
              "    </tr>\n",
              "    <tr>\n",
              "      <th>javascript</th>\n",
              "      <td>157</td>\n",
              "      <td>157</td>\n",
              "    </tr>\n",
              "    <tr>\n",
              "      <th>c</th>\n",
              "      <td>157</td>\n",
              "      <td>157</td>\n",
              "    </tr>\n",
              "    <tr>\n",
              "      <th>python</th>\n",
              "      <td>157</td>\n",
              "      <td>157</td>\n",
              "    </tr>\n",
              "    <tr>\n",
              "      <th>perl</th>\n",
              "      <td>157</td>\n",
              "      <td>157</td>\n",
              "    </tr>\n",
              "    <tr>\n",
              "      <th>r</th>\n",
              "      <td>155</td>\n",
              "      <td>155</td>\n",
              "    </tr>\n",
              "    <tr>\n",
              "      <th>swift</th>\n",
              "      <td>149</td>\n",
              "      <td>149</td>\n",
              "    </tr>\n",
              "    <tr>\n",
              "      <th>go</th>\n",
              "      <td>142</td>\n",
              "      <td>142</td>\n",
              "    </tr>\n",
              "    <tr>\n",
              "      <th>kotlin</th>\n",
              "      <td>121</td>\n",
              "      <td>121</td>\n",
              "    </tr>\n",
              "    <tr>\n",
              "      <th>dart</th>\n",
              "      <td>120</td>\n",
              "      <td>120</td>\n",
              "    </tr>\n",
              "    <tr>\n",
              "      <th>rust</th>\n",
              "      <td>112</td>\n",
              "      <td>112</td>\n",
              "    </tr>\n",
              "    <tr>\n",
              "      <th>julia</th>\n",
              "      <td>110</td>\n",
              "      <td>110</td>\n",
              "    </tr>\n",
              "  </tbody>\n",
              "</table>\n",
              "</div>"
            ],
            "text/plain": [
              "            DATE  POSTS\n",
              "TAG                    \n",
              "c#           158    158\n",
              "assembly     157    157\n",
              "php          157    157\n",
              "c++          157    157\n",
              "ruby         157    157\n",
              "delphi       157    157\n",
              "java         157    157\n",
              "javascript   157    157\n",
              "c            157    157\n",
              "python       157    157\n",
              "perl         157    157\n",
              "r            155    155\n",
              "swift        149    149\n",
              "go           142    142\n",
              "kotlin       121    121\n",
              "dart         120    120\n",
              "rust         112    112\n",
              "julia        110    110"
            ]
          },
          "metadata": {},
          "execution_count": 27
        }
      ],
      "metadata": {
        "id": "hDT4JlJNJfgQ",
        "colab_type": "code",
        "colab": {}
      }
    },
    {
      "cell_type": "markdown",
      "source": [
        "## Data Cleaning\n",
        "\n",
        "Let's fix the date format to make it more readable. We need to use Pandas to change format from a string of \"2008-07-01 00:00:00\" to a datetime object with the format of \"2008-07-01\""
      ],
      "metadata": {
        "id": "arguGp3ZGxu1",
        "colab_type": "text"
      }
    },
    {
      "cell_type": "code",
      "execution_count": 30,
      "source": [
        "df['DATE'][1]"
      ],
      "outputs": [
        {
          "output_type": "execute_result",
          "data": {
            "text/plain": [
              "'2008-08-01 00:00:00'"
            ]
          },
          "metadata": {},
          "execution_count": 30
        }
      ],
      "metadata": {
        "id": "5nh5a4UtGxu1",
        "colab_type": "code",
        "colab": {}
      }
    },
    {
      "cell_type": "code",
      "execution_count": 31,
      "source": [
        "df.DATE[1]"
      ],
      "outputs": [
        {
          "output_type": "execute_result",
          "data": {
            "text/plain": [
              "'2008-08-01 00:00:00'"
            ]
          },
          "metadata": {},
          "execution_count": 31
        }
      ],
      "metadata": {
        "id": "016H-Fy4Gxu3",
        "colab_type": "code",
        "colab": {}
      }
    },
    {
      "cell_type": "code",
      "execution_count": 32,
      "source": [
        "type(df['DATE'][1])"
      ],
      "outputs": [
        {
          "output_type": "execute_result",
          "data": {
            "text/plain": [
              "str"
            ]
          },
          "metadata": {},
          "execution_count": 32
        }
      ],
      "metadata": {
        "id": "4EiSd7pdGxu5",
        "colab_type": "code",
        "colab": {}
      }
    },
    {
      "cell_type": "code",
      "execution_count": 33,
      "source": [
        "print(pd.to_datetime(df.DATE[1]))\n",
        "type(pd.to_datetime(df.DATE[1]))"
      ],
      "outputs": [
        {
          "output_type": "stream",
          "name": "stdout",
          "text": [
            "2008-08-01 00:00:00\n"
          ]
        },
        {
          "output_type": "execute_result",
          "data": {
            "text/plain": [
              "pandas._libs.tslibs.timestamps.Timestamp"
            ]
          },
          "metadata": {},
          "execution_count": 33
        }
      ],
      "metadata": {}
    },
    {
      "cell_type": "code",
      "execution_count": 34,
      "source": [
        "df.DATE = pd.to_datetime(df.DATE)\n",
        "df.head()"
      ],
      "outputs": [
        {
          "output_type": "execute_result",
          "data": {
            "text/html": [
              "<div>\n",
              "<style scoped>\n",
              "    .dataframe tbody tr th:only-of-type {\n",
              "        vertical-align: middle;\n",
              "    }\n",
              "\n",
              "    .dataframe tbody tr th {\n",
              "        vertical-align: top;\n",
              "    }\n",
              "\n",
              "    .dataframe thead th {\n",
              "        text-align: right;\n",
              "    }\n",
              "</style>\n",
              "<table border=\"1\" class=\"dataframe\">\n",
              "  <thead>\n",
              "    <tr style=\"text-align: right;\">\n",
              "      <th></th>\n",
              "      <th>DATE</th>\n",
              "      <th>TAG</th>\n",
              "      <th>POSTS</th>\n",
              "    </tr>\n",
              "  </thead>\n",
              "  <tbody>\n",
              "    <tr>\n",
              "      <th>0</th>\n",
              "      <td>2008-07-01</td>\n",
              "      <td>c#</td>\n",
              "      <td>3</td>\n",
              "    </tr>\n",
              "    <tr>\n",
              "      <th>1</th>\n",
              "      <td>2008-08-01</td>\n",
              "      <td>assembly</td>\n",
              "      <td>8</td>\n",
              "    </tr>\n",
              "    <tr>\n",
              "      <th>2</th>\n",
              "      <td>2008-08-01</td>\n",
              "      <td>javascript</td>\n",
              "      <td>163</td>\n",
              "    </tr>\n",
              "    <tr>\n",
              "      <th>3</th>\n",
              "      <td>2008-08-01</td>\n",
              "      <td>c</td>\n",
              "      <td>84</td>\n",
              "    </tr>\n",
              "    <tr>\n",
              "      <th>4</th>\n",
              "      <td>2008-08-01</td>\n",
              "      <td>python</td>\n",
              "      <td>124</td>\n",
              "    </tr>\n",
              "  </tbody>\n",
              "</table>\n",
              "</div>"
            ],
            "text/plain": [
              "        DATE         TAG  POSTS\n",
              "0 2008-07-01          c#      3\n",
              "1 2008-08-01    assembly      8\n",
              "2 2008-08-01  javascript    163\n",
              "3 2008-08-01           c     84\n",
              "4 2008-08-01      python    124"
            ]
          },
          "metadata": {},
          "execution_count": 34
        }
      ],
      "metadata": {}
    },
    {
      "cell_type": "markdown",
      "source": [
        "## Data Manipulation\n",
        "\n"
      ],
      "metadata": {
        "id": "rWAV6tuzGxu6",
        "colab_type": "text"
      }
    },
    {
      "cell_type": "code",
      "execution_count": 35,
      "source": [
        "test_df = pd.DataFrame({'Age': ['Young', 'Young', 'Young', 'Young', 'Old', 'Old', 'Old', 'Old'],\n",
        "                        'Actor': ['Jack', 'Arnold', 'Keanu', 'Sylvester', 'Jack', 'Arnold', 'Keanu', 'Sylvester'],\n",
        "                        'Power': [100, 80, 25, 50, 99, 75, 5, 30]})\n",
        "test_df"
      ],
      "outputs": [
        {
          "output_type": "execute_result",
          "data": {
            "text/html": [
              "<div>\n",
              "<style scoped>\n",
              "    .dataframe tbody tr th:only-of-type {\n",
              "        vertical-align: middle;\n",
              "    }\n",
              "\n",
              "    .dataframe tbody tr th {\n",
              "        vertical-align: top;\n",
              "    }\n",
              "\n",
              "    .dataframe thead th {\n",
              "        text-align: right;\n",
              "    }\n",
              "</style>\n",
              "<table border=\"1\" class=\"dataframe\">\n",
              "  <thead>\n",
              "    <tr style=\"text-align: right;\">\n",
              "      <th></th>\n",
              "      <th>Age</th>\n",
              "      <th>Actor</th>\n",
              "      <th>Power</th>\n",
              "    </tr>\n",
              "  </thead>\n",
              "  <tbody>\n",
              "    <tr>\n",
              "      <th>0</th>\n",
              "      <td>Young</td>\n",
              "      <td>Jack</td>\n",
              "      <td>100</td>\n",
              "    </tr>\n",
              "    <tr>\n",
              "      <th>1</th>\n",
              "      <td>Young</td>\n",
              "      <td>Arnold</td>\n",
              "      <td>80</td>\n",
              "    </tr>\n",
              "    <tr>\n",
              "      <th>2</th>\n",
              "      <td>Young</td>\n",
              "      <td>Keanu</td>\n",
              "      <td>25</td>\n",
              "    </tr>\n",
              "    <tr>\n",
              "      <th>3</th>\n",
              "      <td>Young</td>\n",
              "      <td>Sylvester</td>\n",
              "      <td>50</td>\n",
              "    </tr>\n",
              "    <tr>\n",
              "      <th>4</th>\n",
              "      <td>Old</td>\n",
              "      <td>Jack</td>\n",
              "      <td>99</td>\n",
              "    </tr>\n",
              "    <tr>\n",
              "      <th>5</th>\n",
              "      <td>Old</td>\n",
              "      <td>Arnold</td>\n",
              "      <td>75</td>\n",
              "    </tr>\n",
              "    <tr>\n",
              "      <th>6</th>\n",
              "      <td>Old</td>\n",
              "      <td>Keanu</td>\n",
              "      <td>5</td>\n",
              "    </tr>\n",
              "    <tr>\n",
              "      <th>7</th>\n",
              "      <td>Old</td>\n",
              "      <td>Sylvester</td>\n",
              "      <td>30</td>\n",
              "    </tr>\n",
              "  </tbody>\n",
              "</table>\n",
              "</div>"
            ],
            "text/plain": [
              "     Age      Actor  Power\n",
              "0  Young       Jack    100\n",
              "1  Young     Arnold     80\n",
              "2  Young      Keanu     25\n",
              "3  Young  Sylvester     50\n",
              "4    Old       Jack     99\n",
              "5    Old     Arnold     75\n",
              "6    Old      Keanu      5\n",
              "7    Old  Sylvester     30"
            ]
          },
          "metadata": {},
          "execution_count": 35
        }
      ],
      "metadata": {
        "id": "aHhbulJaGxu7",
        "colab_type": "code",
        "colab": {}
      }
    },
    {
      "cell_type": "code",
      "execution_count": 36,
      "source": [
        "pivoted_df = test_df.pivot(index='Age', columns='Actor', values='Power')\n",
        "pivoted_df"
      ],
      "outputs": [
        {
          "output_type": "execute_result",
          "data": {
            "text/html": [
              "<div>\n",
              "<style scoped>\n",
              "    .dataframe tbody tr th:only-of-type {\n",
              "        vertical-align: middle;\n",
              "    }\n",
              "\n",
              "    .dataframe tbody tr th {\n",
              "        vertical-align: top;\n",
              "    }\n",
              "\n",
              "    .dataframe thead th {\n",
              "        text-align: right;\n",
              "    }\n",
              "</style>\n",
              "<table border=\"1\" class=\"dataframe\">\n",
              "  <thead>\n",
              "    <tr style=\"text-align: right;\">\n",
              "      <th>Actor</th>\n",
              "      <th>Arnold</th>\n",
              "      <th>Jack</th>\n",
              "      <th>Keanu</th>\n",
              "      <th>Sylvester</th>\n",
              "    </tr>\n",
              "    <tr>\n",
              "      <th>Age</th>\n",
              "      <th></th>\n",
              "      <th></th>\n",
              "      <th></th>\n",
              "      <th></th>\n",
              "    </tr>\n",
              "  </thead>\n",
              "  <tbody>\n",
              "    <tr>\n",
              "      <th>Old</th>\n",
              "      <td>75</td>\n",
              "      <td>99</td>\n",
              "      <td>5</td>\n",
              "      <td>30</td>\n",
              "    </tr>\n",
              "    <tr>\n",
              "      <th>Young</th>\n",
              "      <td>80</td>\n",
              "      <td>100</td>\n",
              "      <td>25</td>\n",
              "      <td>50</td>\n",
              "    </tr>\n",
              "  </tbody>\n",
              "</table>\n",
              "</div>"
            ],
            "text/plain": [
              "Actor  Arnold  Jack  Keanu  Sylvester\n",
              "Age                                  \n",
              "Old        75    99      5         30\n",
              "Young      80   100     25         50"
            ]
          },
          "metadata": {},
          "execution_count": 36
        }
      ],
      "metadata": {}
    },
    {
      "cell_type": "markdown",
      "source": [
        "**Challenge**: Can you pivot the df DataFrame so that each row is a date and each column is a programming language? Store the result under a variable called reshaped_df."
      ],
      "metadata": {}
    },
    {
      "cell_type": "code",
      "execution_count": 39,
      "source": [
        "reshaped_df = df.pivot(index='DATE', columns='TAG', values='POSTS')\n",
        "reshaped_df"
      ],
      "outputs": [
        {
          "output_type": "execute_result",
          "data": {
            "text/html": [
              "<div>\n",
              "<style scoped>\n",
              "    .dataframe tbody tr th:only-of-type {\n",
              "        vertical-align: middle;\n",
              "    }\n",
              "\n",
              "    .dataframe tbody tr th {\n",
              "        vertical-align: top;\n",
              "    }\n",
              "\n",
              "    .dataframe thead th {\n",
              "        text-align: right;\n",
              "    }\n",
              "</style>\n",
              "<table border=\"1\" class=\"dataframe\">\n",
              "  <thead>\n",
              "    <tr style=\"text-align: right;\">\n",
              "      <th>TAG</th>\n",
              "      <th>assembly</th>\n",
              "      <th>c</th>\n",
              "      <th>c#</th>\n",
              "      <th>c++</th>\n",
              "      <th>dart</th>\n",
              "      <th>delphi</th>\n",
              "      <th>go</th>\n",
              "      <th>java</th>\n",
              "      <th>javascript</th>\n",
              "      <th>julia</th>\n",
              "      <th>kotlin</th>\n",
              "      <th>perl</th>\n",
              "      <th>php</th>\n",
              "      <th>python</th>\n",
              "      <th>r</th>\n",
              "      <th>ruby</th>\n",
              "      <th>rust</th>\n",
              "      <th>swift</th>\n",
              "    </tr>\n",
              "    <tr>\n",
              "      <th>DATE</th>\n",
              "      <th></th>\n",
              "      <th></th>\n",
              "      <th></th>\n",
              "      <th></th>\n",
              "      <th></th>\n",
              "      <th></th>\n",
              "      <th></th>\n",
              "      <th></th>\n",
              "      <th></th>\n",
              "      <th></th>\n",
              "      <th></th>\n",
              "      <th></th>\n",
              "      <th></th>\n",
              "      <th></th>\n",
              "      <th></th>\n",
              "      <th></th>\n",
              "      <th></th>\n",
              "      <th></th>\n",
              "    </tr>\n",
              "  </thead>\n",
              "  <tbody>\n",
              "    <tr>\n",
              "      <th>2008-07-01</th>\n",
              "      <td>NaN</td>\n",
              "      <td>NaN</td>\n",
              "      <td>3.00</td>\n",
              "      <td>NaN</td>\n",
              "      <td>NaN</td>\n",
              "      <td>NaN</td>\n",
              "      <td>NaN</td>\n",
              "      <td>NaN</td>\n",
              "      <td>NaN</td>\n",
              "      <td>NaN</td>\n",
              "      <td>NaN</td>\n",
              "      <td>NaN</td>\n",
              "      <td>NaN</td>\n",
              "      <td>NaN</td>\n",
              "      <td>NaN</td>\n",
              "      <td>NaN</td>\n",
              "      <td>NaN</td>\n",
              "      <td>NaN</td>\n",
              "    </tr>\n",
              "    <tr>\n",
              "      <th>2008-08-01</th>\n",
              "      <td>8.00</td>\n",
              "      <td>84.00</td>\n",
              "      <td>507.00</td>\n",
              "      <td>164.00</td>\n",
              "      <td>NaN</td>\n",
              "      <td>14.00</td>\n",
              "      <td>NaN</td>\n",
              "      <td>222.00</td>\n",
              "      <td>163.00</td>\n",
              "      <td>NaN</td>\n",
              "      <td>NaN</td>\n",
              "      <td>28.00</td>\n",
              "      <td>160.00</td>\n",
              "      <td>124.00</td>\n",
              "      <td>NaN</td>\n",
              "      <td>71.00</td>\n",
              "      <td>NaN</td>\n",
              "      <td>NaN</td>\n",
              "    </tr>\n",
              "    <tr>\n",
              "      <th>2008-09-01</th>\n",
              "      <td>28.00</td>\n",
              "      <td>320.00</td>\n",
              "      <td>1,648.00</td>\n",
              "      <td>754.00</td>\n",
              "      <td>NaN</td>\n",
              "      <td>105.00</td>\n",
              "      <td>NaN</td>\n",
              "      <td>1,136.00</td>\n",
              "      <td>639.00</td>\n",
              "      <td>NaN</td>\n",
              "      <td>NaN</td>\n",
              "      <td>131.00</td>\n",
              "      <td>480.00</td>\n",
              "      <td>540.00</td>\n",
              "      <td>6.00</td>\n",
              "      <td>289.00</td>\n",
              "      <td>NaN</td>\n",
              "      <td>NaN</td>\n",
              "    </tr>\n",
              "    <tr>\n",
              "      <th>2008-10-01</th>\n",
              "      <td>15.00</td>\n",
              "      <td>303.00</td>\n",
              "      <td>1,989.00</td>\n",
              "      <td>810.00</td>\n",
              "      <td>NaN</td>\n",
              "      <td>112.00</td>\n",
              "      <td>NaN</td>\n",
              "      <td>1,154.00</td>\n",
              "      <td>726.00</td>\n",
              "      <td>NaN</td>\n",
              "      <td>NaN</td>\n",
              "      <td>127.00</td>\n",
              "      <td>615.00</td>\n",
              "      <td>510.00</td>\n",
              "      <td>NaN</td>\n",
              "      <td>249.00</td>\n",
              "      <td>NaN</td>\n",
              "      <td>NaN</td>\n",
              "    </tr>\n",
              "    <tr>\n",
              "      <th>2008-11-01</th>\n",
              "      <td>17.00</td>\n",
              "      <td>259.00</td>\n",
              "      <td>1,733.00</td>\n",
              "      <td>734.00</td>\n",
              "      <td>NaN</td>\n",
              "      <td>141.00</td>\n",
              "      <td>NaN</td>\n",
              "      <td>958.00</td>\n",
              "      <td>579.00</td>\n",
              "      <td>NaN</td>\n",
              "      <td>NaN</td>\n",
              "      <td>97.00</td>\n",
              "      <td>503.00</td>\n",
              "      <td>452.00</td>\n",
              "      <td>1.00</td>\n",
              "      <td>159.00</td>\n",
              "      <td>NaN</td>\n",
              "      <td>NaN</td>\n",
              "    </tr>\n",
              "    <tr>\n",
              "      <th>...</th>\n",
              "      <td>...</td>\n",
              "      <td>...</td>\n",
              "      <td>...</td>\n",
              "      <td>...</td>\n",
              "      <td>...</td>\n",
              "      <td>...</td>\n",
              "      <td>...</td>\n",
              "      <td>...</td>\n",
              "      <td>...</td>\n",
              "      <td>...</td>\n",
              "      <td>...</td>\n",
              "      <td>...</td>\n",
              "      <td>...</td>\n",
              "      <td>...</td>\n",
              "      <td>...</td>\n",
              "      <td>...</td>\n",
              "      <td>...</td>\n",
              "      <td>...</td>\n",
              "    </tr>\n",
              "    <tr>\n",
              "      <th>2021-04-01</th>\n",
              "      <td>344.00</td>\n",
              "      <td>2,457.00</td>\n",
              "      <td>6,777.00</td>\n",
              "      <td>4,351.00</td>\n",
              "      <td>1,901.00</td>\n",
              "      <td>186.00</td>\n",
              "      <td>685.00</td>\n",
              "      <td>9,531.00</td>\n",
              "      <td>18,692.00</td>\n",
              "      <td>151.00</td>\n",
              "      <td>1,633.00</td>\n",
              "      <td>143.00</td>\n",
              "      <td>5,120.00</td>\n",
              "      <td>26,563.00</td>\n",
              "      <td>5,615.00</td>\n",
              "      <td>605.00</td>\n",
              "      <td>602.00</td>\n",
              "      <td>2,531.00</td>\n",
              "    </tr>\n",
              "    <tr>\n",
              "      <th>2021-05-01</th>\n",
              "      <td>327.00</td>\n",
              "      <td>2,261.00</td>\n",
              "      <td>6,578.00</td>\n",
              "      <td>4,603.00</td>\n",
              "      <td>2,026.00</td>\n",
              "      <td>179.00</td>\n",
              "      <td>701.00</td>\n",
              "      <td>9,720.00</td>\n",
              "      <td>18,486.00</td>\n",
              "      <td>149.00</td>\n",
              "      <td>1,671.00</td>\n",
              "      <td>122.00</td>\n",
              "      <td>5,098.00</td>\n",
              "      <td>26,138.00</td>\n",
              "      <td>5,404.00</td>\n",
              "      <td>447.00</td>\n",
              "      <td>525.00</td>\n",
              "      <td>2,213.00</td>\n",
              "    </tr>\n",
              "    <tr>\n",
              "      <th>2021-06-01</th>\n",
              "      <td>285.00</td>\n",
              "      <td>2,013.00</td>\n",
              "      <td>6,462.00</td>\n",
              "      <td>4,197.00</td>\n",
              "      <td>1,962.00</td>\n",
              "      <td>133.00</td>\n",
              "      <td>649.00</td>\n",
              "      <td>9,264.00</td>\n",
              "      <td>17,737.00</td>\n",
              "      <td>149.00</td>\n",
              "      <td>1,737.00</td>\n",
              "      <td>157.00</td>\n",
              "      <td>4,902.00</td>\n",
              "      <td>24,643.00</td>\n",
              "      <td>4,958.00</td>\n",
              "      <td>470.00</td>\n",
              "      <td>533.00</td>\n",
              "      <td>2,129.00</td>\n",
              "    </tr>\n",
              "    <tr>\n",
              "      <th>2021-07-01</th>\n",
              "      <td>200.00</td>\n",
              "      <td>1,732.00</td>\n",
              "      <td>5,981.00</td>\n",
              "      <td>3,822.00</td>\n",
              "      <td>1,787.00</td>\n",
              "      <td>148.00</td>\n",
              "      <td>653.00</td>\n",
              "      <td>8,423.00</td>\n",
              "      <td>17,516.00</td>\n",
              "      <td>198.00</td>\n",
              "      <td>1,643.00</td>\n",
              "      <td>140.00</td>\n",
              "      <td>4,669.00</td>\n",
              "      <td>24,302.00</td>\n",
              "      <td>4,694.00</td>\n",
              "      <td>501.00</td>\n",
              "      <td>531.00</td>\n",
              "      <td>2,287.00</td>\n",
              "    </tr>\n",
              "    <tr>\n",
              "      <th>2021-08-01</th>\n",
              "      <td>181.00</td>\n",
              "      <td>1,719.00</td>\n",
              "      <td>6,290.00</td>\n",
              "      <td>3,768.00</td>\n",
              "      <td>1,962.00</td>\n",
              "      <td>141.00</td>\n",
              "      <td>861.00</td>\n",
              "      <td>8,518.00</td>\n",
              "      <td>18,004.00</td>\n",
              "      <td>138.00</td>\n",
              "      <td>1,737.00</td>\n",
              "      <td>129.00</td>\n",
              "      <td>5,163.00</td>\n",
              "      <td>24,431.00</td>\n",
              "      <td>4,712.00</td>\n",
              "      <td>520.00</td>\n",
              "      <td>505.00</td>\n",
              "      <td>2,306.00</td>\n",
              "    </tr>\n",
              "  </tbody>\n",
              "</table>\n",
              "<p>158 rows × 18 columns</p>\n",
              "</div>"
            ],
            "text/plain": [
              "TAG         assembly        c       c#      c++     dart  delphi     go  \\\n",
              "DATE                                                                      \n",
              "2008-07-01       NaN      NaN     3.00      NaN      NaN     NaN    NaN   \n",
              "2008-08-01      8.00    84.00   507.00   164.00      NaN   14.00    NaN   \n",
              "2008-09-01     28.00   320.00 1,648.00   754.00      NaN  105.00    NaN   \n",
              "2008-10-01     15.00   303.00 1,989.00   810.00      NaN  112.00    NaN   \n",
              "2008-11-01     17.00   259.00 1,733.00   734.00      NaN  141.00    NaN   \n",
              "...              ...      ...      ...      ...      ...     ...    ...   \n",
              "2021-04-01    344.00 2,457.00 6,777.00 4,351.00 1,901.00  186.00 685.00   \n",
              "2021-05-01    327.00 2,261.00 6,578.00 4,603.00 2,026.00  179.00 701.00   \n",
              "2021-06-01    285.00 2,013.00 6,462.00 4,197.00 1,962.00  133.00 649.00   \n",
              "2021-07-01    200.00 1,732.00 5,981.00 3,822.00 1,787.00  148.00 653.00   \n",
              "2021-08-01    181.00 1,719.00 6,290.00 3,768.00 1,962.00  141.00 861.00   \n",
              "\n",
              "TAG            java  javascript  julia   kotlin   perl      php    python  \\\n",
              "DATE                                                                        \n",
              "2008-07-01      NaN         NaN    NaN      NaN    NaN      NaN       NaN   \n",
              "2008-08-01   222.00      163.00    NaN      NaN  28.00   160.00    124.00   \n",
              "2008-09-01 1,136.00      639.00    NaN      NaN 131.00   480.00    540.00   \n",
              "2008-10-01 1,154.00      726.00    NaN      NaN 127.00   615.00    510.00   \n",
              "2008-11-01   958.00      579.00    NaN      NaN  97.00   503.00    452.00   \n",
              "...             ...         ...    ...      ...    ...      ...       ...   \n",
              "2021-04-01 9,531.00   18,692.00 151.00 1,633.00 143.00 5,120.00 26,563.00   \n",
              "2021-05-01 9,720.00   18,486.00 149.00 1,671.00 122.00 5,098.00 26,138.00   \n",
              "2021-06-01 9,264.00   17,737.00 149.00 1,737.00 157.00 4,902.00 24,643.00   \n",
              "2021-07-01 8,423.00   17,516.00 198.00 1,643.00 140.00 4,669.00 24,302.00   \n",
              "2021-08-01 8,518.00   18,004.00 138.00 1,737.00 129.00 5,163.00 24,431.00   \n",
              "\n",
              "TAG               r   ruby   rust    swift  \n",
              "DATE                                        \n",
              "2008-07-01      NaN    NaN    NaN      NaN  \n",
              "2008-08-01      NaN  71.00    NaN      NaN  \n",
              "2008-09-01     6.00 289.00    NaN      NaN  \n",
              "2008-10-01      NaN 249.00    NaN      NaN  \n",
              "2008-11-01     1.00 159.00    NaN      NaN  \n",
              "...             ...    ...    ...      ...  \n",
              "2021-04-01 5,615.00 605.00 602.00 2,531.00  \n",
              "2021-05-01 5,404.00 447.00 525.00 2,213.00  \n",
              "2021-06-01 4,958.00 470.00 533.00 2,129.00  \n",
              "2021-07-01 4,694.00 501.00 531.00 2,287.00  \n",
              "2021-08-01 4,712.00 520.00 505.00 2,306.00  \n",
              "\n",
              "[158 rows x 18 columns]"
            ]
          },
          "metadata": {},
          "execution_count": 39
        }
      ],
      "metadata": {}
    },
    {
      "cell_type": "markdown",
      "source": [
        "**Challenge**: What are the dimensions of our new dataframe? How many rows and columns does it have? Print out the column names and print out the first 5 rows of the dataframe."
      ],
      "metadata": {
        "id": "RWKcVIyFKwHM",
        "colab_type": "text"
      }
    },
    {
      "cell_type": "code",
      "execution_count": 41,
      "source": [
        "reshaped_df.shape"
      ],
      "outputs": [
        {
          "output_type": "execute_result",
          "data": {
            "text/plain": [
              "(158, 18)"
            ]
          },
          "metadata": {},
          "execution_count": 41
        }
      ],
      "metadata": {
        "id": "v-u4FcLXGxu9",
        "colab_type": "code",
        "colab": {}
      }
    },
    {
      "cell_type": "code",
      "execution_count": 45,
      "source": [
        "reshaped_df.columns"
      ],
      "outputs": [
        {
          "output_type": "execute_result",
          "data": {
            "text/plain": [
              "Index(['assembly', 'c', 'c#', 'c++', 'dart', 'delphi', 'go', 'java',\n",
              "       'javascript', 'julia', 'kotlin', 'perl', 'php', 'python', 'r', 'ruby',\n",
              "       'rust', 'swift'],\n",
              "      dtype='object', name='TAG')"
            ]
          },
          "metadata": {},
          "execution_count": 45
        }
      ],
      "metadata": {}
    },
    {
      "cell_type": "code",
      "execution_count": 43,
      "source": [
        "reshaped_df.head()"
      ],
      "outputs": [
        {
          "output_type": "execute_result",
          "data": {
            "text/html": [
              "<div>\n",
              "<style scoped>\n",
              "    .dataframe tbody tr th:only-of-type {\n",
              "        vertical-align: middle;\n",
              "    }\n",
              "\n",
              "    .dataframe tbody tr th {\n",
              "        vertical-align: top;\n",
              "    }\n",
              "\n",
              "    .dataframe thead th {\n",
              "        text-align: right;\n",
              "    }\n",
              "</style>\n",
              "<table border=\"1\" class=\"dataframe\">\n",
              "  <thead>\n",
              "    <tr style=\"text-align: right;\">\n",
              "      <th>TAG</th>\n",
              "      <th>assembly</th>\n",
              "      <th>c</th>\n",
              "      <th>c#</th>\n",
              "      <th>c++</th>\n",
              "      <th>dart</th>\n",
              "      <th>delphi</th>\n",
              "      <th>go</th>\n",
              "      <th>java</th>\n",
              "      <th>javascript</th>\n",
              "      <th>julia</th>\n",
              "      <th>kotlin</th>\n",
              "      <th>perl</th>\n",
              "      <th>php</th>\n",
              "      <th>python</th>\n",
              "      <th>r</th>\n",
              "      <th>ruby</th>\n",
              "      <th>rust</th>\n",
              "      <th>swift</th>\n",
              "    </tr>\n",
              "    <tr>\n",
              "      <th>DATE</th>\n",
              "      <th></th>\n",
              "      <th></th>\n",
              "      <th></th>\n",
              "      <th></th>\n",
              "      <th></th>\n",
              "      <th></th>\n",
              "      <th></th>\n",
              "      <th></th>\n",
              "      <th></th>\n",
              "      <th></th>\n",
              "      <th></th>\n",
              "      <th></th>\n",
              "      <th></th>\n",
              "      <th></th>\n",
              "      <th></th>\n",
              "      <th></th>\n",
              "      <th></th>\n",
              "      <th></th>\n",
              "    </tr>\n",
              "  </thead>\n",
              "  <tbody>\n",
              "    <tr>\n",
              "      <th>2008-07-01</th>\n",
              "      <td>NaN</td>\n",
              "      <td>NaN</td>\n",
              "      <td>3.00</td>\n",
              "      <td>NaN</td>\n",
              "      <td>NaN</td>\n",
              "      <td>NaN</td>\n",
              "      <td>NaN</td>\n",
              "      <td>NaN</td>\n",
              "      <td>NaN</td>\n",
              "      <td>NaN</td>\n",
              "      <td>NaN</td>\n",
              "      <td>NaN</td>\n",
              "      <td>NaN</td>\n",
              "      <td>NaN</td>\n",
              "      <td>NaN</td>\n",
              "      <td>NaN</td>\n",
              "      <td>NaN</td>\n",
              "      <td>NaN</td>\n",
              "    </tr>\n",
              "    <tr>\n",
              "      <th>2008-08-01</th>\n",
              "      <td>8.00</td>\n",
              "      <td>84.00</td>\n",
              "      <td>507.00</td>\n",
              "      <td>164.00</td>\n",
              "      <td>NaN</td>\n",
              "      <td>14.00</td>\n",
              "      <td>NaN</td>\n",
              "      <td>222.00</td>\n",
              "      <td>163.00</td>\n",
              "      <td>NaN</td>\n",
              "      <td>NaN</td>\n",
              "      <td>28.00</td>\n",
              "      <td>160.00</td>\n",
              "      <td>124.00</td>\n",
              "      <td>NaN</td>\n",
              "      <td>71.00</td>\n",
              "      <td>NaN</td>\n",
              "      <td>NaN</td>\n",
              "    </tr>\n",
              "    <tr>\n",
              "      <th>2008-09-01</th>\n",
              "      <td>28.00</td>\n",
              "      <td>320.00</td>\n",
              "      <td>1,648.00</td>\n",
              "      <td>754.00</td>\n",
              "      <td>NaN</td>\n",
              "      <td>105.00</td>\n",
              "      <td>NaN</td>\n",
              "      <td>1,136.00</td>\n",
              "      <td>639.00</td>\n",
              "      <td>NaN</td>\n",
              "      <td>NaN</td>\n",
              "      <td>131.00</td>\n",
              "      <td>480.00</td>\n",
              "      <td>540.00</td>\n",
              "      <td>6.00</td>\n",
              "      <td>289.00</td>\n",
              "      <td>NaN</td>\n",
              "      <td>NaN</td>\n",
              "    </tr>\n",
              "    <tr>\n",
              "      <th>2008-10-01</th>\n",
              "      <td>15.00</td>\n",
              "      <td>303.00</td>\n",
              "      <td>1,989.00</td>\n",
              "      <td>810.00</td>\n",
              "      <td>NaN</td>\n",
              "      <td>112.00</td>\n",
              "      <td>NaN</td>\n",
              "      <td>1,154.00</td>\n",
              "      <td>726.00</td>\n",
              "      <td>NaN</td>\n",
              "      <td>NaN</td>\n",
              "      <td>127.00</td>\n",
              "      <td>615.00</td>\n",
              "      <td>510.00</td>\n",
              "      <td>NaN</td>\n",
              "      <td>249.00</td>\n",
              "      <td>NaN</td>\n",
              "      <td>NaN</td>\n",
              "    </tr>\n",
              "    <tr>\n",
              "      <th>2008-11-01</th>\n",
              "      <td>17.00</td>\n",
              "      <td>259.00</td>\n",
              "      <td>1,733.00</td>\n",
              "      <td>734.00</td>\n",
              "      <td>NaN</td>\n",
              "      <td>141.00</td>\n",
              "      <td>NaN</td>\n",
              "      <td>958.00</td>\n",
              "      <td>579.00</td>\n",
              "      <td>NaN</td>\n",
              "      <td>NaN</td>\n",
              "      <td>97.00</td>\n",
              "      <td>503.00</td>\n",
              "      <td>452.00</td>\n",
              "      <td>1.00</td>\n",
              "      <td>159.00</td>\n",
              "      <td>NaN</td>\n",
              "      <td>NaN</td>\n",
              "    </tr>\n",
              "  </tbody>\n",
              "</table>\n",
              "</div>"
            ],
            "text/plain": [
              "TAG         assembly      c       c#    c++  dart  delphi  go     java  \\\n",
              "DATE                                                                     \n",
              "2008-07-01       NaN    NaN     3.00    NaN   NaN     NaN NaN      NaN   \n",
              "2008-08-01      8.00  84.00   507.00 164.00   NaN   14.00 NaN   222.00   \n",
              "2008-09-01     28.00 320.00 1,648.00 754.00   NaN  105.00 NaN 1,136.00   \n",
              "2008-10-01     15.00 303.00 1,989.00 810.00   NaN  112.00 NaN 1,154.00   \n",
              "2008-11-01     17.00 259.00 1,733.00 734.00   NaN  141.00 NaN   958.00   \n",
              "\n",
              "TAG         javascript  julia  kotlin   perl    php  python    r   ruby  rust  \\\n",
              "DATE                                                                            \n",
              "2008-07-01         NaN    NaN     NaN    NaN    NaN     NaN  NaN    NaN   NaN   \n",
              "2008-08-01      163.00    NaN     NaN  28.00 160.00  124.00  NaN  71.00   NaN   \n",
              "2008-09-01      639.00    NaN     NaN 131.00 480.00  540.00 6.00 289.00   NaN   \n",
              "2008-10-01      726.00    NaN     NaN 127.00 615.00  510.00  NaN 249.00   NaN   \n",
              "2008-11-01      579.00    NaN     NaN  97.00 503.00  452.00 1.00 159.00   NaN   \n",
              "\n",
              "TAG         swift  \n",
              "DATE               \n",
              "2008-07-01    NaN  \n",
              "2008-08-01    NaN  \n",
              "2008-09-01    NaN  \n",
              "2008-10-01    NaN  \n",
              "2008-11-01    NaN  "
            ]
          },
          "metadata": {},
          "execution_count": 43
        }
      ],
      "metadata": {
        "id": "NUyBcaMMGxu-",
        "colab_type": "code",
        "colab": {}
      }
    },
    {
      "cell_type": "code",
      "execution_count": 44,
      "source": [
        "reshaped_df.tail()"
      ],
      "outputs": [
        {
          "output_type": "execute_result",
          "data": {
            "text/html": [
              "<div>\n",
              "<style scoped>\n",
              "    .dataframe tbody tr th:only-of-type {\n",
              "        vertical-align: middle;\n",
              "    }\n",
              "\n",
              "    .dataframe tbody tr th {\n",
              "        vertical-align: top;\n",
              "    }\n",
              "\n",
              "    .dataframe thead th {\n",
              "        text-align: right;\n",
              "    }\n",
              "</style>\n",
              "<table border=\"1\" class=\"dataframe\">\n",
              "  <thead>\n",
              "    <tr style=\"text-align: right;\">\n",
              "      <th>TAG</th>\n",
              "      <th>assembly</th>\n",
              "      <th>c</th>\n",
              "      <th>c#</th>\n",
              "      <th>c++</th>\n",
              "      <th>dart</th>\n",
              "      <th>delphi</th>\n",
              "      <th>go</th>\n",
              "      <th>java</th>\n",
              "      <th>javascript</th>\n",
              "      <th>julia</th>\n",
              "      <th>kotlin</th>\n",
              "      <th>perl</th>\n",
              "      <th>php</th>\n",
              "      <th>python</th>\n",
              "      <th>r</th>\n",
              "      <th>ruby</th>\n",
              "      <th>rust</th>\n",
              "      <th>swift</th>\n",
              "    </tr>\n",
              "    <tr>\n",
              "      <th>DATE</th>\n",
              "      <th></th>\n",
              "      <th></th>\n",
              "      <th></th>\n",
              "      <th></th>\n",
              "      <th></th>\n",
              "      <th></th>\n",
              "      <th></th>\n",
              "      <th></th>\n",
              "      <th></th>\n",
              "      <th></th>\n",
              "      <th></th>\n",
              "      <th></th>\n",
              "      <th></th>\n",
              "      <th></th>\n",
              "      <th></th>\n",
              "      <th></th>\n",
              "      <th></th>\n",
              "      <th></th>\n",
              "    </tr>\n",
              "  </thead>\n",
              "  <tbody>\n",
              "    <tr>\n",
              "      <th>2021-04-01</th>\n",
              "      <td>344.00</td>\n",
              "      <td>2,457.00</td>\n",
              "      <td>6,777.00</td>\n",
              "      <td>4,351.00</td>\n",
              "      <td>1,901.00</td>\n",
              "      <td>186.00</td>\n",
              "      <td>685.00</td>\n",
              "      <td>9,531.00</td>\n",
              "      <td>18,692.00</td>\n",
              "      <td>151.00</td>\n",
              "      <td>1,633.00</td>\n",
              "      <td>143.00</td>\n",
              "      <td>5,120.00</td>\n",
              "      <td>26,563.00</td>\n",
              "      <td>5,615.00</td>\n",
              "      <td>605.00</td>\n",
              "      <td>602.00</td>\n",
              "      <td>2,531.00</td>\n",
              "    </tr>\n",
              "    <tr>\n",
              "      <th>2021-05-01</th>\n",
              "      <td>327.00</td>\n",
              "      <td>2,261.00</td>\n",
              "      <td>6,578.00</td>\n",
              "      <td>4,603.00</td>\n",
              "      <td>2,026.00</td>\n",
              "      <td>179.00</td>\n",
              "      <td>701.00</td>\n",
              "      <td>9,720.00</td>\n",
              "      <td>18,486.00</td>\n",
              "      <td>149.00</td>\n",
              "      <td>1,671.00</td>\n",
              "      <td>122.00</td>\n",
              "      <td>5,098.00</td>\n",
              "      <td>26,138.00</td>\n",
              "      <td>5,404.00</td>\n",
              "      <td>447.00</td>\n",
              "      <td>525.00</td>\n",
              "      <td>2,213.00</td>\n",
              "    </tr>\n",
              "    <tr>\n",
              "      <th>2021-06-01</th>\n",
              "      <td>285.00</td>\n",
              "      <td>2,013.00</td>\n",
              "      <td>6,462.00</td>\n",
              "      <td>4,197.00</td>\n",
              "      <td>1,962.00</td>\n",
              "      <td>133.00</td>\n",
              "      <td>649.00</td>\n",
              "      <td>9,264.00</td>\n",
              "      <td>17,737.00</td>\n",
              "      <td>149.00</td>\n",
              "      <td>1,737.00</td>\n",
              "      <td>157.00</td>\n",
              "      <td>4,902.00</td>\n",
              "      <td>24,643.00</td>\n",
              "      <td>4,958.00</td>\n",
              "      <td>470.00</td>\n",
              "      <td>533.00</td>\n",
              "      <td>2,129.00</td>\n",
              "    </tr>\n",
              "    <tr>\n",
              "      <th>2021-07-01</th>\n",
              "      <td>200.00</td>\n",
              "      <td>1,732.00</td>\n",
              "      <td>5,981.00</td>\n",
              "      <td>3,822.00</td>\n",
              "      <td>1,787.00</td>\n",
              "      <td>148.00</td>\n",
              "      <td>653.00</td>\n",
              "      <td>8,423.00</td>\n",
              "      <td>17,516.00</td>\n",
              "      <td>198.00</td>\n",
              "      <td>1,643.00</td>\n",
              "      <td>140.00</td>\n",
              "      <td>4,669.00</td>\n",
              "      <td>24,302.00</td>\n",
              "      <td>4,694.00</td>\n",
              "      <td>501.00</td>\n",
              "      <td>531.00</td>\n",
              "      <td>2,287.00</td>\n",
              "    </tr>\n",
              "    <tr>\n",
              "      <th>2021-08-01</th>\n",
              "      <td>181.00</td>\n",
              "      <td>1,719.00</td>\n",
              "      <td>6,290.00</td>\n",
              "      <td>3,768.00</td>\n",
              "      <td>1,962.00</td>\n",
              "      <td>141.00</td>\n",
              "      <td>861.00</td>\n",
              "      <td>8,518.00</td>\n",
              "      <td>18,004.00</td>\n",
              "      <td>138.00</td>\n",
              "      <td>1,737.00</td>\n",
              "      <td>129.00</td>\n",
              "      <td>5,163.00</td>\n",
              "      <td>24,431.00</td>\n",
              "      <td>4,712.00</td>\n",
              "      <td>520.00</td>\n",
              "      <td>505.00</td>\n",
              "      <td>2,306.00</td>\n",
              "    </tr>\n",
              "  </tbody>\n",
              "</table>\n",
              "</div>"
            ],
            "text/plain": [
              "TAG         assembly        c       c#      c++     dart  delphi     go  \\\n",
              "DATE                                                                      \n",
              "2021-04-01    344.00 2,457.00 6,777.00 4,351.00 1,901.00  186.00 685.00   \n",
              "2021-05-01    327.00 2,261.00 6,578.00 4,603.00 2,026.00  179.00 701.00   \n",
              "2021-06-01    285.00 2,013.00 6,462.00 4,197.00 1,962.00  133.00 649.00   \n",
              "2021-07-01    200.00 1,732.00 5,981.00 3,822.00 1,787.00  148.00 653.00   \n",
              "2021-08-01    181.00 1,719.00 6,290.00 3,768.00 1,962.00  141.00 861.00   \n",
              "\n",
              "TAG            java  javascript  julia   kotlin   perl      php    python  \\\n",
              "DATE                                                                        \n",
              "2021-04-01 9,531.00   18,692.00 151.00 1,633.00 143.00 5,120.00 26,563.00   \n",
              "2021-05-01 9,720.00   18,486.00 149.00 1,671.00 122.00 5,098.00 26,138.00   \n",
              "2021-06-01 9,264.00   17,737.00 149.00 1,737.00 157.00 4,902.00 24,643.00   \n",
              "2021-07-01 8,423.00   17,516.00 198.00 1,643.00 140.00 4,669.00 24,302.00   \n",
              "2021-08-01 8,518.00   18,004.00 138.00 1,737.00 129.00 5,163.00 24,431.00   \n",
              "\n",
              "TAG               r   ruby   rust    swift  \n",
              "DATE                                        \n",
              "2021-04-01 5,615.00 605.00 602.00 2,531.00  \n",
              "2021-05-01 5,404.00 447.00 525.00 2,213.00  \n",
              "2021-06-01 4,958.00 470.00 533.00 2,129.00  \n",
              "2021-07-01 4,694.00 501.00 531.00 2,287.00  \n",
              "2021-08-01 4,712.00 520.00 505.00 2,306.00  "
            ]
          },
          "metadata": {},
          "execution_count": 44
        }
      ],
      "metadata": {
        "id": "LnUIOL3LGxvA",
        "colab_type": "code",
        "colab": {}
      }
    },
    {
      "cell_type": "markdown",
      "source": [
        "**Challenge**: Count the number of entries per programming language. Why might the number of entries be different? "
      ],
      "metadata": {
        "id": "BoDCuRU0GxvC",
        "colab_type": "text"
      }
    },
    {
      "cell_type": "code",
      "execution_count": 46,
      "source": [
        "reshaped_df.count()"
      ],
      "outputs": [
        {
          "output_type": "execute_result",
          "data": {
            "text/plain": [
              "TAG\n",
              "assembly      157\n",
              "c             157\n",
              "c#            158\n",
              "c++           157\n",
              "dart          120\n",
              "delphi        157\n",
              "go            142\n",
              "java          157\n",
              "javascript    157\n",
              "julia         110\n",
              "kotlin        121\n",
              "perl          157\n",
              "php           157\n",
              "python        157\n",
              "r             155\n",
              "ruby          157\n",
              "rust          112\n",
              "swift         149\n",
              "dtype: int64"
            ]
          },
          "metadata": {},
          "execution_count": 46
        }
      ],
      "metadata": {
        "id": "-peEFgaMGxvE",
        "colab_type": "code",
        "colab": {}
      }
    },
    {
      "cell_type": "code",
      "execution_count": 47,
      "source": [
        "reshaped_df.fillna(0, inplace=True)\n",
        "reshaped_df.head()"
      ],
      "outputs": [
        {
          "output_type": "execute_result",
          "data": {
            "text/html": [
              "<div>\n",
              "<style scoped>\n",
              "    .dataframe tbody tr th:only-of-type {\n",
              "        vertical-align: middle;\n",
              "    }\n",
              "\n",
              "    .dataframe tbody tr th {\n",
              "        vertical-align: top;\n",
              "    }\n",
              "\n",
              "    .dataframe thead th {\n",
              "        text-align: right;\n",
              "    }\n",
              "</style>\n",
              "<table border=\"1\" class=\"dataframe\">\n",
              "  <thead>\n",
              "    <tr style=\"text-align: right;\">\n",
              "      <th>TAG</th>\n",
              "      <th>assembly</th>\n",
              "      <th>c</th>\n",
              "      <th>c#</th>\n",
              "      <th>c++</th>\n",
              "      <th>dart</th>\n",
              "      <th>delphi</th>\n",
              "      <th>go</th>\n",
              "      <th>java</th>\n",
              "      <th>javascript</th>\n",
              "      <th>julia</th>\n",
              "      <th>kotlin</th>\n",
              "      <th>perl</th>\n",
              "      <th>php</th>\n",
              "      <th>python</th>\n",
              "      <th>r</th>\n",
              "      <th>ruby</th>\n",
              "      <th>rust</th>\n",
              "      <th>swift</th>\n",
              "    </tr>\n",
              "    <tr>\n",
              "      <th>DATE</th>\n",
              "      <th></th>\n",
              "      <th></th>\n",
              "      <th></th>\n",
              "      <th></th>\n",
              "      <th></th>\n",
              "      <th></th>\n",
              "      <th></th>\n",
              "      <th></th>\n",
              "      <th></th>\n",
              "      <th></th>\n",
              "      <th></th>\n",
              "      <th></th>\n",
              "      <th></th>\n",
              "      <th></th>\n",
              "      <th></th>\n",
              "      <th></th>\n",
              "      <th></th>\n",
              "      <th></th>\n",
              "    </tr>\n",
              "  </thead>\n",
              "  <tbody>\n",
              "    <tr>\n",
              "      <th>2008-07-01</th>\n",
              "      <td>0.00</td>\n",
              "      <td>0.00</td>\n",
              "      <td>3.00</td>\n",
              "      <td>0.00</td>\n",
              "      <td>0.00</td>\n",
              "      <td>0.00</td>\n",
              "      <td>0.00</td>\n",
              "      <td>0.00</td>\n",
              "      <td>0.00</td>\n",
              "      <td>0.00</td>\n",
              "      <td>0.00</td>\n",
              "      <td>0.00</td>\n",
              "      <td>0.00</td>\n",
              "      <td>0.00</td>\n",
              "      <td>0.00</td>\n",
              "      <td>0.00</td>\n",
              "      <td>0.00</td>\n",
              "      <td>0.00</td>\n",
              "    </tr>\n",
              "    <tr>\n",
              "      <th>2008-08-01</th>\n",
              "      <td>8.00</td>\n",
              "      <td>84.00</td>\n",
              "      <td>507.00</td>\n",
              "      <td>164.00</td>\n",
              "      <td>0.00</td>\n",
              "      <td>14.00</td>\n",
              "      <td>0.00</td>\n",
              "      <td>222.00</td>\n",
              "      <td>163.00</td>\n",
              "      <td>0.00</td>\n",
              "      <td>0.00</td>\n",
              "      <td>28.00</td>\n",
              "      <td>160.00</td>\n",
              "      <td>124.00</td>\n",
              "      <td>0.00</td>\n",
              "      <td>71.00</td>\n",
              "      <td>0.00</td>\n",
              "      <td>0.00</td>\n",
              "    </tr>\n",
              "    <tr>\n",
              "      <th>2008-09-01</th>\n",
              "      <td>28.00</td>\n",
              "      <td>320.00</td>\n",
              "      <td>1,648.00</td>\n",
              "      <td>754.00</td>\n",
              "      <td>0.00</td>\n",
              "      <td>105.00</td>\n",
              "      <td>0.00</td>\n",
              "      <td>1,136.00</td>\n",
              "      <td>639.00</td>\n",
              "      <td>0.00</td>\n",
              "      <td>0.00</td>\n",
              "      <td>131.00</td>\n",
              "      <td>480.00</td>\n",
              "      <td>540.00</td>\n",
              "      <td>6.00</td>\n",
              "      <td>289.00</td>\n",
              "      <td>0.00</td>\n",
              "      <td>0.00</td>\n",
              "    </tr>\n",
              "    <tr>\n",
              "      <th>2008-10-01</th>\n",
              "      <td>15.00</td>\n",
              "      <td>303.00</td>\n",
              "      <td>1,989.00</td>\n",
              "      <td>810.00</td>\n",
              "      <td>0.00</td>\n",
              "      <td>112.00</td>\n",
              "      <td>0.00</td>\n",
              "      <td>1,154.00</td>\n",
              "      <td>726.00</td>\n",
              "      <td>0.00</td>\n",
              "      <td>0.00</td>\n",
              "      <td>127.00</td>\n",
              "      <td>615.00</td>\n",
              "      <td>510.00</td>\n",
              "      <td>0.00</td>\n",
              "      <td>249.00</td>\n",
              "      <td>0.00</td>\n",
              "      <td>0.00</td>\n",
              "    </tr>\n",
              "    <tr>\n",
              "      <th>2008-11-01</th>\n",
              "      <td>17.00</td>\n",
              "      <td>259.00</td>\n",
              "      <td>1,733.00</td>\n",
              "      <td>734.00</td>\n",
              "      <td>0.00</td>\n",
              "      <td>141.00</td>\n",
              "      <td>0.00</td>\n",
              "      <td>958.00</td>\n",
              "      <td>579.00</td>\n",
              "      <td>0.00</td>\n",
              "      <td>0.00</td>\n",
              "      <td>97.00</td>\n",
              "      <td>503.00</td>\n",
              "      <td>452.00</td>\n",
              "      <td>1.00</td>\n",
              "      <td>159.00</td>\n",
              "      <td>0.00</td>\n",
              "      <td>0.00</td>\n",
              "    </tr>\n",
              "  </tbody>\n",
              "</table>\n",
              "</div>"
            ],
            "text/plain": [
              "TAG         assembly      c       c#    c++  dart  delphi   go     java  \\\n",
              "DATE                                                                      \n",
              "2008-07-01      0.00   0.00     3.00   0.00  0.00    0.00 0.00     0.00   \n",
              "2008-08-01      8.00  84.00   507.00 164.00  0.00   14.00 0.00   222.00   \n",
              "2008-09-01     28.00 320.00 1,648.00 754.00  0.00  105.00 0.00 1,136.00   \n",
              "2008-10-01     15.00 303.00 1,989.00 810.00  0.00  112.00 0.00 1,154.00   \n",
              "2008-11-01     17.00 259.00 1,733.00 734.00  0.00  141.00 0.00   958.00   \n",
              "\n",
              "TAG         javascript  julia  kotlin   perl    php  python    r   ruby  rust  \\\n",
              "DATE                                                                            \n",
              "2008-07-01        0.00   0.00    0.00   0.00   0.00    0.00 0.00   0.00  0.00   \n",
              "2008-08-01      163.00   0.00    0.00  28.00 160.00  124.00 0.00  71.00  0.00   \n",
              "2008-09-01      639.00   0.00    0.00 131.00 480.00  540.00 6.00 289.00  0.00   \n",
              "2008-10-01      726.00   0.00    0.00 127.00 615.00  510.00 0.00 249.00  0.00   \n",
              "2008-11-01      579.00   0.00    0.00  97.00 503.00  452.00 1.00 159.00  0.00   \n",
              "\n",
              "TAG         swift  \n",
              "DATE               \n",
              "2008-07-01   0.00  \n",
              "2008-08-01   0.00  \n",
              "2008-09-01   0.00  \n",
              "2008-10-01   0.00  \n",
              "2008-11-01   0.00  "
            ]
          },
          "metadata": {},
          "execution_count": 47
        }
      ],
      "metadata": {
        "id": "01f2BCF8GxvG",
        "colab_type": "code",
        "colab": {}
      }
    },
    {
      "cell_type": "code",
      "execution_count": 48,
      "source": [
        "reshaped_df.isna().values.any()"
      ],
      "outputs": [
        {
          "output_type": "execute_result",
          "data": {
            "text/plain": [
              "False"
            ]
          },
          "metadata": {},
          "execution_count": 48
        }
      ],
      "metadata": {
        "id": "KooRRxAdGxvI",
        "colab_type": "code",
        "colab": {}
      }
    },
    {
      "cell_type": "markdown",
      "source": [
        "## Data Visualisaton with with Matplotlib\n"
      ],
      "metadata": {
        "id": "8xU7l_f4GxvK",
        "colab_type": "text"
      }
    },
    {
      "cell_type": "markdown",
      "source": [
        "**Challenge**: Use the [matplotlib documentation](https://matplotlib.org/3.2.1/api/_as_gen/matplotlib.pyplot.plot.html#matplotlib.pyplot.plot) to plot a single programming language (e.g., java) on a chart."
      ],
      "metadata": {
        "id": "njnNXTlhGxvK",
        "colab_type": "text"
      }
    },
    {
      "cell_type": "code",
      "execution_count": 5,
      "source": [],
      "outputs": [],
      "metadata": {
        "id": "S0OS8T8iGxvL",
        "colab_type": "code",
        "colab": {}
      }
    },
    {
      "cell_type": "code",
      "execution_count": 5,
      "source": [],
      "outputs": [],
      "metadata": {
        "id": "EU6AV1l9GxvM",
        "colab_type": "code",
        "colab": {}
      }
    },
    {
      "cell_type": "code",
      "execution_count": 5,
      "source": [],
      "outputs": [],
      "metadata": {
        "id": "_Qzzg6b_GxvO",
        "colab_type": "code",
        "colab": {}
      }
    },
    {
      "cell_type": "markdown",
      "source": [
        "**Challenge**: Show two line (e.g. for Java and Python) on the same chart."
      ],
      "metadata": {
        "id": "Sm2DL5tZGxvQ",
        "colab_type": "text"
      }
    },
    {
      "cell_type": "code",
      "execution_count": 5,
      "source": [],
      "outputs": [],
      "metadata": {
        "id": "T-0vClQSGxvQ",
        "colab_type": "code",
        "colab": {}
      }
    },
    {
      "cell_type": "markdown",
      "source": [
        "# Smoothing out Time Series Data\n",
        "\n",
        "Time series data can be quite noisy, with a lot of up and down spikes. To better see a trend we can plot an average of, say 6 or 12 observations. This is called the rolling mean. We calculate the average in a window of time and move it forward by one overservation. Pandas has two handy methods already built in to work this out: [rolling()](https://pandas.pydata.org/pandas-docs/stable/reference/api/pandas.DataFrame.rolling.html) and [mean()](https://pandas.pydata.org/pandas-docs/stable/reference/api/pandas.core.window.rolling.Rolling.mean.html). "
      ],
      "metadata": {
        "id": "3jSjfPy7GxvY",
        "colab_type": "text"
      }
    },
    {
      "cell_type": "code",
      "execution_count": null,
      "source": [],
      "outputs": [],
      "metadata": {
        "id": "s3WYd3OgGxvc",
        "colab_type": "code",
        "colab": {}
      }
    },
    {
      "cell_type": "code",
      "execution_count": null,
      "source": [],
      "outputs": [],
      "metadata": {
        "id": "WMJOX8Y2Gxvd",
        "colab_type": "code",
        "colab": {}
      }
    },
    {
      "cell_type": "code",
      "execution_count": null,
      "source": [],
      "outputs": [],
      "metadata": {
        "id": "fAvvarA7Gxvf",
        "colab_type": "code",
        "colab": {}
      }
    },
    {
      "cell_type": "code",
      "execution_count": null,
      "source": [],
      "outputs": [],
      "metadata": {
        "id": "Gm0Ww0S4Gxvg",
        "colab_type": "code",
        "colab": {}
      }
    }
  ]
}