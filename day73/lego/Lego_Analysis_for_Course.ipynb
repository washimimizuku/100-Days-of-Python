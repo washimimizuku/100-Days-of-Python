{
  "nbformat": 4,
  "nbformat_minor": 2,
  "metadata": {
    "kernelspec": {
      "name": "python3",
      "display_name": "Python 3.9.7 64-bit ('100-days-of-python-b3X5F5AV': venv)"
    },
    "language_info": {
      "codemirror_mode": {
        "name": "ipython",
        "version": 3
      },
      "file_extension": ".py",
      "mimetype": "text/x-python",
      "name": "python",
      "nbconvert_exporter": "python",
      "pygments_lexer": "ipython3",
      "version": "3.9.7"
    },
    "colab": {
      "name": "Lego Analysis for Course (start).ipynb",
      "provenance": []
    },
    "interpreter": {
      "hash": "9b7b5fd3d6c5e302221c75c5c358da79ea8e02da0d1be3e337463942090708a6"
    }
  },
  "cells": [
    {
      "cell_type": "markdown",
      "source": [
        "# Introduction\n",
        "\n",
        "Today we'll dive deep into a dataset all about LEGO. From the dataset we can ask whole bunch of interesting questions about the history of the LEGO company, their product offering, and which LEGO set ultimately rules them all:\n",
        "\n",
        "<ul type=\"square\">\n",
        "<li>What is the most enormous LEGO set ever created and how many parts did it have?</li>\n",
        "\n",
        "<li>How did the LEGO company start out? In which year were the first LEGO sets released and how many sets did the company sell when it first launched?</li>\n",
        "\n",
        "<li>Which LEGO theme has the most sets? Is it one of LEGO's own themes like Ninjago or a theme they licensed liked Harry Potter or Marvel Superheroes?</li>\n",
        "\n",
        "<li>When did the LEGO company really expand its product offering? Can we spot a change in the company strategy based on how many themes and sets did it released year-on-year?</li>\n",
        "\n",
        "<li>Did LEGO sets grow in size and complexity over time? Do older LEGO \n",
        "sets tend to have more or fewer parts than newer sets?</li>\n",
        "</ul>\n",
        "\n",
        "**Data Source**\n",
        "\n",
        "[Rebrickable](https://rebrickable.com/downloads/) has compiled data on all the LEGO pieces in existence. I recommend you use download the .csv files provided in this lesson. "
      ],
      "metadata": {
        "dc": {
          "key": "1d0b086e6c"
        },
        "run_control": {
          "frozen": true
        },
        "tags": [
          "context"
        ],
        "id": "s9JLDE8NIquP",
        "colab_type": "text"
      }
    },
    {
      "cell_type": "markdown",
      "source": [
        "<img src=\"assets/bricks.jpg\">"
      ],
      "metadata": {}
    },
    {
      "cell_type": "markdown",
      "source": [
        "# Import Statements"
      ],
      "metadata": {
        "id": "V0u2lGJuIquQ",
        "colab_type": "text"
      }
    },
    {
      "cell_type": "code",
      "execution_count": 24,
      "source": [
        "import pandas as pd\n",
        "import matplotlib.pyplot as plt\n",
        "pd.options.display.float_format = '{:,.2f}'.format "
      ],
      "outputs": [],
      "metadata": {
        "id": "z5Wk7rs-IquQ",
        "colab_type": "code",
        "colab": {}
      }
    },
    {
      "cell_type": "markdown",
      "source": [
        "# Data Exploration"
      ],
      "metadata": {
        "id": "R5NQpJ_KIquT",
        "colab_type": "text"
      }
    },
    {
      "cell_type": "markdown",
      "source": [
        "**Challenge**: How many different colours does the LEGO company produce? Read the colors.csv file in the data folder and find the total number of unique colours. Try using the [.nunique() method](https://pandas.pydata.org/pandas-docs/stable/reference/api/pandas.DataFrame.nunique.html?highlight=nunique#pandas.DataFrame.nunique) to accomplish this."
      ],
      "metadata": {
        "dc": {
          "key": "044b2cef41"
        },
        "run_control": {
          "frozen": true
        },
        "tags": [
          "context"
        ],
        "id": "ffaG-UFYIquT",
        "colab_type": "text"
      }
    },
    {
      "cell_type": "code",
      "execution_count": 7,
      "source": [
        "colors = pd.read_csv('data/colors.csv')\n",
        "colors.head()\n"
      ],
      "outputs": [
        {
          "output_type": "execute_result",
          "data": {
            "text/html": [
              "<div>\n",
              "<style scoped>\n",
              "    .dataframe tbody tr th:only-of-type {\n",
              "        vertical-align: middle;\n",
              "    }\n",
              "\n",
              "    .dataframe tbody tr th {\n",
              "        vertical-align: top;\n",
              "    }\n",
              "\n",
              "    .dataframe thead th {\n",
              "        text-align: right;\n",
              "    }\n",
              "</style>\n",
              "<table border=\"1\" class=\"dataframe\">\n",
              "  <thead>\n",
              "    <tr style=\"text-align: right;\">\n",
              "      <th></th>\n",
              "      <th>id</th>\n",
              "      <th>name</th>\n",
              "      <th>rgb</th>\n",
              "      <th>is_trans</th>\n",
              "    </tr>\n",
              "  </thead>\n",
              "  <tbody>\n",
              "    <tr>\n",
              "      <th>0</th>\n",
              "      <td>-1</td>\n",
              "      <td>Unknown</td>\n",
              "      <td>0033B2</td>\n",
              "      <td>f</td>\n",
              "    </tr>\n",
              "    <tr>\n",
              "      <th>1</th>\n",
              "      <td>0</td>\n",
              "      <td>Black</td>\n",
              "      <td>05131D</td>\n",
              "      <td>f</td>\n",
              "    </tr>\n",
              "    <tr>\n",
              "      <th>2</th>\n",
              "      <td>1</td>\n",
              "      <td>Blue</td>\n",
              "      <td>0055BF</td>\n",
              "      <td>f</td>\n",
              "    </tr>\n",
              "    <tr>\n",
              "      <th>3</th>\n",
              "      <td>2</td>\n",
              "      <td>Green</td>\n",
              "      <td>237841</td>\n",
              "      <td>f</td>\n",
              "    </tr>\n",
              "    <tr>\n",
              "      <th>4</th>\n",
              "      <td>3</td>\n",
              "      <td>Dark Turquoise</td>\n",
              "      <td>008F9B</td>\n",
              "      <td>f</td>\n",
              "    </tr>\n",
              "  </tbody>\n",
              "</table>\n",
              "</div>"
            ],
            "text/plain": [
              "   id            name     rgb is_trans\n",
              "0  -1         Unknown  0033B2        f\n",
              "1   0           Black  05131D        f\n",
              "2   1            Blue  0055BF        f\n",
              "3   2           Green  237841        f\n",
              "4   3  Dark Turquoise  008F9B        f"
            ]
          },
          "metadata": {},
          "execution_count": 7
        }
      ],
      "metadata": {
        "id": "yd4G9pK7IquU",
        "colab_type": "code",
        "colab": {}
      }
    },
    {
      "cell_type": "code",
      "execution_count": 9,
      "source": [
        "colors['name'].nunique()"
      ],
      "outputs": [
        {
          "output_type": "execute_result",
          "data": {
            "text/plain": [
              "135"
            ]
          },
          "metadata": {},
          "execution_count": 9
        }
      ],
      "metadata": {
        "dc": {
          "key": "044b2cef41"
        },
        "tags": [
          "sample_code"
        ],
        "id": "QmbAXax7IquW",
        "colab_type": "code",
        "colab": {}
      }
    },
    {
      "cell_type": "markdown",
      "source": [
        "**Challenge**: Find the number of transparent colours where <code>is_trans == 't'</code> versus the number of opaque colours where <code>is_trans == 'f'</code>. See if you can accomplish this in two different ways."
      ],
      "metadata": {
        "dc": {
          "key": "a5723ae5c2"
        },
        "run_control": {
          "frozen": true
        },
        "tags": [
          "context"
        ],
        "id": "PItRbqgcIqua",
        "colab_type": "text"
      }
    },
    {
      "cell_type": "code",
      "execution_count": 14,
      "source": [
        "colors.groupby('is_trans').count()"
      ],
      "outputs": [
        {
          "output_type": "execute_result",
          "data": {
            "text/html": [
              "<div>\n",
              "<style scoped>\n",
              "    .dataframe tbody tr th:only-of-type {\n",
              "        vertical-align: middle;\n",
              "    }\n",
              "\n",
              "    .dataframe tbody tr th {\n",
              "        vertical-align: top;\n",
              "    }\n",
              "\n",
              "    .dataframe thead th {\n",
              "        text-align: right;\n",
              "    }\n",
              "</style>\n",
              "<table border=\"1\" class=\"dataframe\">\n",
              "  <thead>\n",
              "    <tr style=\"text-align: right;\">\n",
              "      <th></th>\n",
              "      <th>id</th>\n",
              "      <th>name</th>\n",
              "      <th>rgb</th>\n",
              "    </tr>\n",
              "    <tr>\n",
              "      <th>is_trans</th>\n",
              "      <th></th>\n",
              "      <th></th>\n",
              "      <th></th>\n",
              "    </tr>\n",
              "  </thead>\n",
              "  <tbody>\n",
              "    <tr>\n",
              "      <th>f</th>\n",
              "      <td>107</td>\n",
              "      <td>107</td>\n",
              "      <td>107</td>\n",
              "    </tr>\n",
              "    <tr>\n",
              "      <th>t</th>\n",
              "      <td>28</td>\n",
              "      <td>28</td>\n",
              "      <td>28</td>\n",
              "    </tr>\n",
              "  </tbody>\n",
              "</table>\n",
              "</div>"
            ],
            "text/plain": [
              "           id  name  rgb\n",
              "is_trans                \n",
              "f         107   107  107\n",
              "t          28    28   28"
            ]
          },
          "metadata": {},
          "execution_count": 14
        }
      ],
      "metadata": {
        "id": "1UZrfq82Iqub",
        "colab_type": "code",
        "colab": {}
      }
    },
    {
      "cell_type": "code",
      "execution_count": 15,
      "source": [
        "colors.is_trans.value_counts()"
      ],
      "outputs": [
        {
          "output_type": "execute_result",
          "data": {
            "text/plain": [
              "f    107\n",
              "t     28\n",
              "Name: is_trans, dtype: int64"
            ]
          },
          "metadata": {},
          "execution_count": 15
        }
      ],
      "metadata": {
        "id": "KQFf-leCIqud",
        "colab_type": "code",
        "colab": {}
      }
    },
    {
      "cell_type": "markdown",
      "source": [
        "### Understanding LEGO Themes vs. LEGO Sets"
      ],
      "metadata": {
        "id": "TMqdhUYcusfy",
        "colab_type": "text"
      }
    },
    {
      "cell_type": "markdown",
      "source": [
        "Walk into a LEGO store and you will see their products organised by theme. Their themes include Star Wars, Batman, Harry Potter and many more.\n",
        "\n",
        "<img src=\"assets/lego_themes.png\">"
      ],
      "metadata": {
        "id": "y0kxCh63uwOv",
        "colab_type": "text"
      }
    },
    {
      "cell_type": "markdown",
      "source": [
        "A lego **set** is a particular box of LEGO or product. Therefore, a single theme typically has many different sets.\n",
        "\n",
        "<img src=\"assets/lego_sets.png\">"
      ],
      "metadata": {
        "dc": {
          "key": "c9d0e58653"
        },
        "run_control": {
          "frozen": true
        },
        "tags": [
          "context"
        ],
        "id": "u_xkZUF8Iqug",
        "colab_type": "text"
      }
    },
    {
      "cell_type": "markdown",
      "source": [
        "The <code>sets.csv</code> data contains a list of sets over the years and the number of parts that each of these sets contained.\n",
        "\n",
        "**Challenge**: Read the sets.csv data and take a look at the first and last couple of rows. "
      ],
      "metadata": {
        "colab_type": "text",
        "id": "jJTAROe5unkx"
      }
    },
    {
      "cell_type": "code",
      "execution_count": 16,
      "source": [
        "sets = pd.read_csv('data/sets.csv')\n",
        "sets.head()"
      ],
      "outputs": [
        {
          "output_type": "execute_result",
          "data": {
            "text/html": [
              "<div>\n",
              "<style scoped>\n",
              "    .dataframe tbody tr th:only-of-type {\n",
              "        vertical-align: middle;\n",
              "    }\n",
              "\n",
              "    .dataframe tbody tr th {\n",
              "        vertical-align: top;\n",
              "    }\n",
              "\n",
              "    .dataframe thead th {\n",
              "        text-align: right;\n",
              "    }\n",
              "</style>\n",
              "<table border=\"1\" class=\"dataframe\">\n",
              "  <thead>\n",
              "    <tr style=\"text-align: right;\">\n",
              "      <th></th>\n",
              "      <th>set_num</th>\n",
              "      <th>name</th>\n",
              "      <th>year</th>\n",
              "      <th>theme_id</th>\n",
              "      <th>num_parts</th>\n",
              "    </tr>\n",
              "  </thead>\n",
              "  <tbody>\n",
              "    <tr>\n",
              "      <th>0</th>\n",
              "      <td>001-1</td>\n",
              "      <td>Gears</td>\n",
              "      <td>1965</td>\n",
              "      <td>1</td>\n",
              "      <td>43</td>\n",
              "    </tr>\n",
              "    <tr>\n",
              "      <th>1</th>\n",
              "      <td>0011-2</td>\n",
              "      <td>Town Mini-Figures</td>\n",
              "      <td>1978</td>\n",
              "      <td>84</td>\n",
              "      <td>12</td>\n",
              "    </tr>\n",
              "    <tr>\n",
              "      <th>2</th>\n",
              "      <td>0011-3</td>\n",
              "      <td>Castle 2 for 1 Bonus Offer</td>\n",
              "      <td>1987</td>\n",
              "      <td>199</td>\n",
              "      <td>0</td>\n",
              "    </tr>\n",
              "    <tr>\n",
              "      <th>3</th>\n",
              "      <td>0012-1</td>\n",
              "      <td>Space Mini-Figures</td>\n",
              "      <td>1979</td>\n",
              "      <td>143</td>\n",
              "      <td>12</td>\n",
              "    </tr>\n",
              "    <tr>\n",
              "      <th>4</th>\n",
              "      <td>0013-1</td>\n",
              "      <td>Space Mini-Figures</td>\n",
              "      <td>1979</td>\n",
              "      <td>143</td>\n",
              "      <td>12</td>\n",
              "    </tr>\n",
              "  </tbody>\n",
              "</table>\n",
              "</div>"
            ],
            "text/plain": [
              "  set_num                        name  year  theme_id  num_parts\n",
              "0   001-1                       Gears  1965         1         43\n",
              "1  0011-2           Town Mini-Figures  1978        84         12\n",
              "2  0011-3  Castle 2 for 1 Bonus Offer  1987       199          0\n",
              "3  0012-1          Space Mini-Figures  1979       143         12\n",
              "4  0013-1          Space Mini-Figures  1979       143         12"
            ]
          },
          "metadata": {},
          "execution_count": 16
        }
      ],
      "metadata": {
        "id": "vGMOv-NRIquh",
        "colab_type": "code",
        "colab": {}
      }
    },
    {
      "cell_type": "code",
      "execution_count": 19,
      "source": [
        "sets.tail()"
      ],
      "outputs": [
        {
          "output_type": "execute_result",
          "data": {
            "text/html": [
              "<div>\n",
              "<style scoped>\n",
              "    .dataframe tbody tr th:only-of-type {\n",
              "        vertical-align: middle;\n",
              "    }\n",
              "\n",
              "    .dataframe tbody tr th {\n",
              "        vertical-align: top;\n",
              "    }\n",
              "\n",
              "    .dataframe thead th {\n",
              "        text-align: right;\n",
              "    }\n",
              "</style>\n",
              "<table border=\"1\" class=\"dataframe\">\n",
              "  <thead>\n",
              "    <tr style=\"text-align: right;\">\n",
              "      <th></th>\n",
              "      <th>set_num</th>\n",
              "      <th>name</th>\n",
              "      <th>year</th>\n",
              "      <th>theme_id</th>\n",
              "      <th>num_parts</th>\n",
              "    </tr>\n",
              "  </thead>\n",
              "  <tbody>\n",
              "    <tr>\n",
              "      <th>15705</th>\n",
              "      <td>wwgp1-1</td>\n",
              "      <td>Wild West Limited Edition Gift Pack</td>\n",
              "      <td>1996</td>\n",
              "      <td>476</td>\n",
              "      <td>0</td>\n",
              "    </tr>\n",
              "    <tr>\n",
              "      <th>15706</th>\n",
              "      <td>XMASTREE-1</td>\n",
              "      <td>Christmas Tree</td>\n",
              "      <td>2019</td>\n",
              "      <td>410</td>\n",
              "      <td>26</td>\n",
              "    </tr>\n",
              "    <tr>\n",
              "      <th>15707</th>\n",
              "      <td>XWING-1</td>\n",
              "      <td>Mini X-Wing Fighter</td>\n",
              "      <td>2019</td>\n",
              "      <td>158</td>\n",
              "      <td>60</td>\n",
              "    </tr>\n",
              "    <tr>\n",
              "      <th>15708</th>\n",
              "      <td>XWING-2</td>\n",
              "      <td>X-Wing Trench Run</td>\n",
              "      <td>2019</td>\n",
              "      <td>158</td>\n",
              "      <td>52</td>\n",
              "    </tr>\n",
              "    <tr>\n",
              "      <th>15709</th>\n",
              "      <td>YODACHRON-1</td>\n",
              "      <td>Yoda Chronicles Promotional Set</td>\n",
              "      <td>2013</td>\n",
              "      <td>158</td>\n",
              "      <td>413</td>\n",
              "    </tr>\n",
              "  </tbody>\n",
              "</table>\n",
              "</div>"
            ],
            "text/plain": [
              "           set_num                                 name  year  theme_id  \\\n",
              "15705      wwgp1-1  Wild West Limited Edition Gift Pack  1996       476   \n",
              "15706   XMASTREE-1                       Christmas Tree  2019       410   \n",
              "15707      XWING-1                  Mini X-Wing Fighter  2019       158   \n",
              "15708      XWING-2                    X-Wing Trench Run  2019       158   \n",
              "15709  YODACHRON-1      Yoda Chronicles Promotional Set  2013       158   \n",
              "\n",
              "       num_parts  \n",
              "15705          0  \n",
              "15706         26  \n",
              "15707         60  \n",
              "15708         52  \n",
              "15709        413  "
            ]
          },
          "metadata": {},
          "execution_count": 19
        }
      ],
      "metadata": {
        "id": "T3lLFvyZIqui",
        "colab_type": "code",
        "colab": {}
      }
    },
    {
      "cell_type": "markdown",
      "source": [
        "**Challenge**: In which year were the first LEGO sets released and what were these sets called?"
      ],
      "metadata": {
        "id": "ez-UXSMUIqum",
        "colab_type": "text"
      }
    },
    {
      "cell_type": "code",
      "execution_count": 21,
      "source": [
        "sets.sort_values('year').head()"
      ],
      "outputs": [
        {
          "output_type": "execute_result",
          "data": {
            "text/html": [
              "<div>\n",
              "<style scoped>\n",
              "    .dataframe tbody tr th:only-of-type {\n",
              "        vertical-align: middle;\n",
              "    }\n",
              "\n",
              "    .dataframe tbody tr th {\n",
              "        vertical-align: top;\n",
              "    }\n",
              "\n",
              "    .dataframe thead th {\n",
              "        text-align: right;\n",
              "    }\n",
              "</style>\n",
              "<table border=\"1\" class=\"dataframe\">\n",
              "  <thead>\n",
              "    <tr style=\"text-align: right;\">\n",
              "      <th></th>\n",
              "      <th>set_num</th>\n",
              "      <th>name</th>\n",
              "      <th>year</th>\n",
              "      <th>theme_id</th>\n",
              "      <th>num_parts</th>\n",
              "    </tr>\n",
              "  </thead>\n",
              "  <tbody>\n",
              "    <tr>\n",
              "      <th>9521</th>\n",
              "      <td>700.1-1</td>\n",
              "      <td>Extra-Large Gift Set (ABB)</td>\n",
              "      <td>1949</td>\n",
              "      <td>365</td>\n",
              "      <td>142</td>\n",
              "    </tr>\n",
              "    <tr>\n",
              "      <th>9534</th>\n",
              "      <td>700.2-1</td>\n",
              "      <td>Large Gift Set (ABB)</td>\n",
              "      <td>1949</td>\n",
              "      <td>365</td>\n",
              "      <td>178</td>\n",
              "    </tr>\n",
              "    <tr>\n",
              "      <th>9539</th>\n",
              "      <td>700.3-1</td>\n",
              "      <td>Medium Gift Set (ABB)</td>\n",
              "      <td>1949</td>\n",
              "      <td>365</td>\n",
              "      <td>142</td>\n",
              "    </tr>\n",
              "    <tr>\n",
              "      <th>9544</th>\n",
              "      <td>700.A-1</td>\n",
              "      <td>Small Brick Set (ABB)</td>\n",
              "      <td>1949</td>\n",
              "      <td>371</td>\n",
              "      <td>24</td>\n",
              "    </tr>\n",
              "    <tr>\n",
              "      <th>9545</th>\n",
              "      <td>700.B-1</td>\n",
              "      <td>Small Doors and Windows Set (ABB)</td>\n",
              "      <td>1949</td>\n",
              "      <td>371</td>\n",
              "      <td>12</td>\n",
              "    </tr>\n",
              "  </tbody>\n",
              "</table>\n",
              "</div>"
            ],
            "text/plain": [
              "      set_num                               name  year  theme_id  num_parts\n",
              "9521  700.1-1         Extra-Large Gift Set (ABB)  1949       365        142\n",
              "9534  700.2-1               Large Gift Set (ABB)  1949       365        178\n",
              "9539  700.3-1              Medium Gift Set (ABB)  1949       365        142\n",
              "9544  700.A-1              Small Brick Set (ABB)  1949       371         24\n",
              "9545  700.B-1  Small Doors and Windows Set (ABB)  1949       371         12"
            ]
          },
          "metadata": {},
          "execution_count": 21
        }
      ],
      "metadata": {
        "id": "s2aL6qrGIqum",
        "colab_type": "code",
        "colab": {}
      }
    },
    {
      "cell_type": "markdown",
      "source": [
        "**Challenge**: How many different sets did LEGO sell in their first year? How many types of LEGO products were on offer in the year the company started?"
      ],
      "metadata": {
        "id": "JJoK3M8TBAVU",
        "colab_type": "text"
      }
    },
    {
      "cell_type": "code",
      "execution_count": 22,
      "source": [
        "sets[sets['year'] == 1949]"
      ],
      "outputs": [
        {
          "output_type": "execute_result",
          "data": {
            "text/html": [
              "<div>\n",
              "<style scoped>\n",
              "    .dataframe tbody tr th:only-of-type {\n",
              "        vertical-align: middle;\n",
              "    }\n",
              "\n",
              "    .dataframe tbody tr th {\n",
              "        vertical-align: top;\n",
              "    }\n",
              "\n",
              "    .dataframe thead th {\n",
              "        text-align: right;\n",
              "    }\n",
              "</style>\n",
              "<table border=\"1\" class=\"dataframe\">\n",
              "  <thead>\n",
              "    <tr style=\"text-align: right;\">\n",
              "      <th></th>\n",
              "      <th>set_num</th>\n",
              "      <th>name</th>\n",
              "      <th>year</th>\n",
              "      <th>theme_id</th>\n",
              "      <th>num_parts</th>\n",
              "    </tr>\n",
              "  </thead>\n",
              "  <tbody>\n",
              "    <tr>\n",
              "      <th>9521</th>\n",
              "      <td>700.1-1</td>\n",
              "      <td>Extra-Large Gift Set (ABB)</td>\n",
              "      <td>1949</td>\n",
              "      <td>365</td>\n",
              "      <td>142</td>\n",
              "    </tr>\n",
              "    <tr>\n",
              "      <th>9534</th>\n",
              "      <td>700.2-1</td>\n",
              "      <td>Large Gift Set (ABB)</td>\n",
              "      <td>1949</td>\n",
              "      <td>365</td>\n",
              "      <td>178</td>\n",
              "    </tr>\n",
              "    <tr>\n",
              "      <th>9539</th>\n",
              "      <td>700.3-1</td>\n",
              "      <td>Medium Gift Set (ABB)</td>\n",
              "      <td>1949</td>\n",
              "      <td>365</td>\n",
              "      <td>142</td>\n",
              "    </tr>\n",
              "    <tr>\n",
              "      <th>9544</th>\n",
              "      <td>700.A-1</td>\n",
              "      <td>Small Brick Set (ABB)</td>\n",
              "      <td>1949</td>\n",
              "      <td>371</td>\n",
              "      <td>24</td>\n",
              "    </tr>\n",
              "    <tr>\n",
              "      <th>9545</th>\n",
              "      <td>700.B-1</td>\n",
              "      <td>Small Doors and Windows Set (ABB)</td>\n",
              "      <td>1949</td>\n",
              "      <td>371</td>\n",
              "      <td>12</td>\n",
              "    </tr>\n",
              "  </tbody>\n",
              "</table>\n",
              "</div>"
            ],
            "text/plain": [
              "      set_num                               name  year  theme_id  num_parts\n",
              "9521  700.1-1         Extra-Large Gift Set (ABB)  1949       365        142\n",
              "9534  700.2-1               Large Gift Set (ABB)  1949       365        178\n",
              "9539  700.3-1              Medium Gift Set (ABB)  1949       365        142\n",
              "9544  700.A-1              Small Brick Set (ABB)  1949       371         24\n",
              "9545  700.B-1  Small Doors and Windows Set (ABB)  1949       371         12"
            ]
          },
          "metadata": {},
          "execution_count": 22
        }
      ],
      "metadata": {
        "id": "h-Tf1w7IBBg9",
        "colab_type": "code",
        "colab": {}
      }
    },
    {
      "cell_type": "markdown",
      "source": [
        "**Challenge**: Find the top 5 LEGO sets with the most number of parts. "
      ],
      "metadata": {
        "id": "RJMMYQYqIquo",
        "colab_type": "text"
      }
    },
    {
      "cell_type": "code",
      "execution_count": 23,
      "source": [
        "sets.sort_values('num_parts', ascending=False).head()"
      ],
      "outputs": [
        {
          "output_type": "execute_result",
          "data": {
            "text/html": [
              "<div>\n",
              "<style scoped>\n",
              "    .dataframe tbody tr th:only-of-type {\n",
              "        vertical-align: middle;\n",
              "    }\n",
              "\n",
              "    .dataframe tbody tr th {\n",
              "        vertical-align: top;\n",
              "    }\n",
              "\n",
              "    .dataframe thead th {\n",
              "        text-align: right;\n",
              "    }\n",
              "</style>\n",
              "<table border=\"1\" class=\"dataframe\">\n",
              "  <thead>\n",
              "    <tr style=\"text-align: right;\">\n",
              "      <th></th>\n",
              "      <th>set_num</th>\n",
              "      <th>name</th>\n",
              "      <th>year</th>\n",
              "      <th>theme_id</th>\n",
              "      <th>num_parts</th>\n",
              "    </tr>\n",
              "  </thead>\n",
              "  <tbody>\n",
              "    <tr>\n",
              "      <th>15004</th>\n",
              "      <td>BIGBOX-1</td>\n",
              "      <td>The Ultimate Battle for Chima</td>\n",
              "      <td>2015</td>\n",
              "      <td>571</td>\n",
              "      <td>9987</td>\n",
              "    </tr>\n",
              "    <tr>\n",
              "      <th>11183</th>\n",
              "      <td>75192-1</td>\n",
              "      <td>UCS Millennium Falcon</td>\n",
              "      <td>2017</td>\n",
              "      <td>171</td>\n",
              "      <td>7541</td>\n",
              "    </tr>\n",
              "    <tr>\n",
              "      <th>10551</th>\n",
              "      <td>71043-1</td>\n",
              "      <td>Hogwarts Castle</td>\n",
              "      <td>2018</td>\n",
              "      <td>246</td>\n",
              "      <td>6020</td>\n",
              "    </tr>\n",
              "    <tr>\n",
              "      <th>295</th>\n",
              "      <td>10256-1</td>\n",
              "      <td>Taj Mahal</td>\n",
              "      <td>2017</td>\n",
              "      <td>673</td>\n",
              "      <td>5923</td>\n",
              "    </tr>\n",
              "    <tr>\n",
              "      <th>221</th>\n",
              "      <td>10189-1</td>\n",
              "      <td>Taj Mahal</td>\n",
              "      <td>2008</td>\n",
              "      <td>673</td>\n",
              "      <td>5922</td>\n",
              "    </tr>\n",
              "  </tbody>\n",
              "</table>\n",
              "</div>"
            ],
            "text/plain": [
              "        set_num                           name  year  theme_id  num_parts\n",
              "15004  BIGBOX-1  The Ultimate Battle for Chima  2015       571       9987\n",
              "11183   75192-1          UCS Millennium Falcon  2017       171       7541\n",
              "10551   71043-1                Hogwarts Castle  2018       246       6020\n",
              "295     10256-1                      Taj Mahal  2017       673       5923\n",
              "221     10189-1                      Taj Mahal  2008       673       5922"
            ]
          },
          "metadata": {},
          "execution_count": 23
        }
      ],
      "metadata": {
        "id": "toJvjRuQIqup",
        "colab_type": "code",
        "colab": {}
      }
    },
    {
      "cell_type": "markdown",
      "source": [
        "**Challenge**: Use <code>.groupby()</code> and <code>.count()</code> to show the number of LEGO sets released year-on-year. How do the number of sets released in 1955 compare to the number of sets released in 2019? "
      ],
      "metadata": {
        "id": "uSyhOzAHIqur",
        "colab_type": "text"
      }
    },
    {
      "cell_type": "code",
      "execution_count": 26,
      "source": [
        "sets_by_year = sets.groupby('year').count()\n",
        "sets_by_year['set_num'].head()"
      ],
      "outputs": [
        {
          "output_type": "execute_result",
          "data": {
            "text/plain": [
              "year\n",
              "1949     5\n",
              "1950     6\n",
              "1953     4\n",
              "1954    14\n",
              "1955    28\n",
              "Name: set_num, dtype: int64"
            ]
          },
          "metadata": {},
          "execution_count": 26
        }
      ],
      "metadata": {
        "scrolled": true,
        "id": "qjdrktZAIqus",
        "colab_type": "code",
        "colab": {}
      }
    },
    {
      "cell_type": "code",
      "execution_count": 27,
      "source": [
        "sets_by_year['set_num'].tail()"
      ],
      "outputs": [
        {
          "output_type": "execute_result",
          "data": {
            "text/plain": [
              "year\n",
              "2017    786\n",
              "2018    816\n",
              "2019    840\n",
              "2020    674\n",
              "2021      3\n",
              "Name: set_num, dtype: int64"
            ]
          },
          "metadata": {},
          "execution_count": 27
        }
      ],
      "metadata": {
        "id": "tFInsHOkIqut",
        "colab_type": "code",
        "colab": {}
      }
    },
    {
      "cell_type": "markdown",
      "source": [
        "**Challenge**: Show the number of LEGO releases on a line chart using Matplotlib. <br>\n",
        "<br>\n",
        "Note that the .csv file is from late 2020, so to plot the full calendar years, you will have to exclude some data from your chart. Can you use the slicing techniques covered in Day 21 to avoid plotting the last two years? The same syntax will work on Pandas DataFrames. "
      ],
      "metadata": {
        "id": "xJrmIOULIquv",
        "colab_type": "text"
      }
    },
    {
      "cell_type": "code",
      "execution_count": 28,
      "source": [
        "plt.plot(sets_by_year.index, sets_by_year.set_num)"
      ],
      "outputs": [
        {
          "output_type": "execute_result",
          "data": {
            "text/plain": [
              "[<matplotlib.lines.Line2D at 0x11d74c910>]"
            ]
          },
          "metadata": {},
          "execution_count": 28
        },
        {
          "output_type": "display_data",
          "data": {
            "image/png": "[encoded data removed]",
            "text/plain": [
              "<Figure size 432x288 with 1 Axes>"
            ]
          },
          "metadata": {
            "needs_background": "light"
          }
        }
      ],
      "metadata": {
        "id": "Nckj4lSGIquw",
        "colab_type": "code",
        "colab": {}
      }
    },
    {
      "cell_type": "code",
      "execution_count": 32,
      "source": [
        "plt.plot(sets_by_year.index[:-2], sets_by_year.set_num[:-2])"
      ],
      "outputs": [
        {
          "output_type": "execute_result",
          "data": {
            "text/plain": [
              "[<matplotlib.lines.Line2D at 0x11d97e8b0>]"
            ]
          },
          "metadata": {},
          "execution_count": 32
        },
        {
          "output_type": "display_data",
          "data": {
            "image/png": "[encoded data removed]",
            "text/plain": [
              "<Figure size 432x288 with 1 Axes>"
            ]
          },
          "metadata": {
            "needs_background": "light"
          }
        }
      ],
      "metadata": {
        "id": "_ZqAN-5MIquz",
        "colab_type": "code",
        "colab": {}
      }
    },
    {
      "cell_type": "markdown",
      "source": [
        "### Aggregate Data with the Python .agg() Function\n",
        "\n",
        "Let's work out the number of different themes shipped by year. This means we have to count the number of unique theme_ids per calendar year."
      ],
      "metadata": {
        "id": "xrDeNYYXIqu1",
        "colab_type": "text"
      }
    },
    {
      "cell_type": "code",
      "execution_count": 34,
      "source": [
        "themes_by_year = sets.groupby('year').agg({'theme_id': pd.Series.nunique})\n",
        "themes_by_year.rename(columns = {'theme_id': 'nr_themes'}, inplace = True)\n",
        "themes_by_year.head()"
      ],
      "outputs": [
        {
          "output_type": "execute_result",
          "data": {
            "text/html": [
              "<div>\n",
              "<style scoped>\n",
              "    .dataframe tbody tr th:only-of-type {\n",
              "        vertical-align: middle;\n",
              "    }\n",
              "\n",
              "    .dataframe tbody tr th {\n",
              "        vertical-align: top;\n",
              "    }\n",
              "\n",
              "    .dataframe thead th {\n",
              "        text-align: right;\n",
              "    }\n",
              "</style>\n",
              "<table border=\"1\" class=\"dataframe\">\n",
              "  <thead>\n",
              "    <tr style=\"text-align: right;\">\n",
              "      <th></th>\n",
              "      <th>nr_themes</th>\n",
              "    </tr>\n",
              "    <tr>\n",
              "      <th>year</th>\n",
              "      <th></th>\n",
              "    </tr>\n",
              "  </thead>\n",
              "  <tbody>\n",
              "    <tr>\n",
              "      <th>1949</th>\n",
              "      <td>2</td>\n",
              "    </tr>\n",
              "    <tr>\n",
              "      <th>1950</th>\n",
              "      <td>1</td>\n",
              "    </tr>\n",
              "    <tr>\n",
              "      <th>1953</th>\n",
              "      <td>2</td>\n",
              "    </tr>\n",
              "    <tr>\n",
              "      <th>1954</th>\n",
              "      <td>2</td>\n",
              "    </tr>\n",
              "    <tr>\n",
              "      <th>1955</th>\n",
              "      <td>4</td>\n",
              "    </tr>\n",
              "  </tbody>\n",
              "</table>\n",
              "</div>"
            ],
            "text/plain": [
              "      nr_themes\n",
              "year           \n",
              "1949          2\n",
              "1950          1\n",
              "1953          2\n",
              "1954          2\n",
              "1955          4"
            ]
          },
          "metadata": {},
          "execution_count": 34
        }
      ],
      "metadata": {
        "dc": {
          "key": "266a3f390c"
        },
        "tags": [
          "sample_code"
        ],
        "id": "qx8pTau4Iqu2",
        "colab_type": "code",
        "colab": {}
      }
    },
    {
      "cell_type": "code",
      "execution_count": 35,
      "source": [
        "themes_by_year.tail()"
      ],
      "outputs": [
        {
          "output_type": "execute_result",
          "data": {
            "text/html": [
              "<div>\n",
              "<style scoped>\n",
              "    .dataframe tbody tr th:only-of-type {\n",
              "        vertical-align: middle;\n",
              "    }\n",
              "\n",
              "    .dataframe tbody tr th {\n",
              "        vertical-align: top;\n",
              "    }\n",
              "\n",
              "    .dataframe thead th {\n",
              "        text-align: right;\n",
              "    }\n",
              "</style>\n",
              "<table border=\"1\" class=\"dataframe\">\n",
              "  <thead>\n",
              "    <tr style=\"text-align: right;\">\n",
              "      <th></th>\n",
              "      <th>nr_themes</th>\n",
              "    </tr>\n",
              "    <tr>\n",
              "      <th>year</th>\n",
              "      <th></th>\n",
              "    </tr>\n",
              "  </thead>\n",
              "  <tbody>\n",
              "    <tr>\n",
              "      <th>2017</th>\n",
              "      <td>89</td>\n",
              "    </tr>\n",
              "    <tr>\n",
              "      <th>2018</th>\n",
              "      <td>93</td>\n",
              "    </tr>\n",
              "    <tr>\n",
              "      <th>2019</th>\n",
              "      <td>78</td>\n",
              "    </tr>\n",
              "    <tr>\n",
              "      <th>2020</th>\n",
              "      <td>82</td>\n",
              "    </tr>\n",
              "    <tr>\n",
              "      <th>2021</th>\n",
              "      <td>1</td>\n",
              "    </tr>\n",
              "  </tbody>\n",
              "</table>\n",
              "</div>"
            ],
            "text/plain": [
              "      nr_themes\n",
              "year           \n",
              "2017         89\n",
              "2018         93\n",
              "2019         78\n",
              "2020         82\n",
              "2021          1"
            ]
          },
          "metadata": {},
          "execution_count": 35
        }
      ],
      "metadata": {
        "id": "BqF1o997Iqu3",
        "colab_type": "code",
        "colab": {}
      }
    },
    {
      "cell_type": "markdown",
      "source": [
        "**Challenge**: Plot the number of themes released by year on a line chart. Only include the full calendar years (i.e., exclude 2020 and 2021). "
      ],
      "metadata": {
        "id": "immCqqw1Iqu5",
        "colab_type": "text"
      }
    },
    {
      "cell_type": "code",
      "execution_count": 37,
      "source": [
        "plt.plot(themes_by_year.index[:-2], themes_by_year.nr_themes[:-2])"
      ],
      "outputs": [
        {
          "output_type": "execute_result",
          "data": {
            "text/plain": [
              "[<matplotlib.lines.Line2D at 0x11daf46a0>]"
            ]
          },
          "metadata": {},
          "execution_count": 37
        },
        {
          "output_type": "display_data",
          "data": {
            "image/png": "[encoded data removed]",
            "text/plain": [
              "<Figure size 432x288 with 1 Axes>"
            ]
          },
          "metadata": {
            "needs_background": "light"
          }
        }
      ],
      "metadata": {
        "id": "r2pamQEkIqu5",
        "colab_type": "code",
        "colab": {}
      }
    },
    {
      "cell_type": "markdown",
      "source": [
        "### Line Charts with Two Seperate Axes"
      ],
      "metadata": {
        "id": "uBbt9-lJIqu7",
        "colab_type": "text"
      }
    },
    {
      "cell_type": "code",
      "execution_count": null,
      "source": [],
      "outputs": [],
      "metadata": {
        "id": "j7lQ_amFIqu7",
        "colab_type": "code",
        "colab": {}
      }
    },
    {
      "cell_type": "markdown",
      "source": [
        "**Challenge**: Use the <code>.groupby()</code> and <code>.agg()</code> function together to figure out the average number of parts per set. How many parts did the average LEGO set released in 1954 compared to say, 2017?"
      ],
      "metadata": {
        "id": "7BHYaUf-Iqu9",
        "colab_type": "text"
      }
    },
    {
      "cell_type": "code",
      "execution_count": null,
      "source": [],
      "outputs": [],
      "metadata": {
        "id": "W7BcH9vuIqu9",
        "colab_type": "code",
        "colab": {}
      }
    },
    {
      "cell_type": "code",
      "execution_count": null,
      "source": [],
      "outputs": [],
      "metadata": {
        "id": "fjbb3tZcIqu_",
        "colab_type": "code",
        "colab": {}
      }
    },
    {
      "cell_type": "markdown",
      "source": [
        "### Scatter Plots in Matplotlib"
      ],
      "metadata": {
        "id": "bAeTe2XqIqvB",
        "colab_type": "text"
      }
    },
    {
      "cell_type": "markdown",
      "source": [
        "**Challenge**: Has the size and complexity of LEGO sets increased over time based on the number of parts? Plot the average number of parts over time using a Matplotlib scatter plot. See if you can use the [scatter plot documentation](https://matplotlib.org/3.1.0/api/_as_gen/matplotlib.pyplot.scatter.html) before I show you the solution. Do you spot a trend in the chart? "
      ],
      "metadata": {
        "id": "SAViZ_TYIqvB",
        "colab_type": "text"
      }
    },
    {
      "cell_type": "code",
      "execution_count": null,
      "source": [],
      "outputs": [],
      "metadata": {
        "id": "EQNZ0D7JIqvB",
        "colab_type": "code",
        "colab": {}
      }
    },
    {
      "cell_type": "markdown",
      "source": [
        "### Number of Sets per LEGO Theme"
      ],
      "metadata": {
        "id": "xK226Ip-IqvE",
        "colab_type": "text"
      }
    },
    {
      "cell_type": "markdown",
      "source": [
        "LEGO has licensed many hit franchises from Harry Potter to Marvel Super Heros to many others. But which theme has the largest number of individual sets? "
      ],
      "metadata": {
        "id": "VKHa1FePIqvE",
        "colab_type": "text"
      }
    },
    {
      "cell_type": "code",
      "execution_count": null,
      "source": [],
      "outputs": [],
      "metadata": {
        "id": "hOBcNrC9IqvE",
        "colab_type": "code",
        "colab": {}
      }
    },
    {
      "cell_type": "markdown",
      "source": [
        "**Challenge** Use what you know about HTML markup and tags to display the database schema: https://i.imgur.com/Sg4lcjx.png"
      ],
      "metadata": {
        "id": "J-i6JULGIqvG",
        "colab_type": "text"
      }
    },
    {
      "cell_type": "markdown",
      "source": [],
      "metadata": {
        "id": "27oDwiPHIqvH",
        "colab_type": "text"
      }
    },
    {
      "cell_type": "markdown",
      "source": [
        "### Database Schemas, Foreign Keys and Merging DataFrames\n",
        "\n",
        "The themes.csv file has the actual theme names. The sets .csv has <code>theme_ids</code> which link to the <code>id</code> column in the themes.csv. "
      ],
      "metadata": {
        "id": "J_0iuerKIqvG",
        "colab_type": "text"
      }
    },
    {
      "cell_type": "markdown",
      "source": [
        "**Challenge**: Explore the themes.csv. How is it structured? Search for the name 'Star Wars'. How many <code>id</code>s correspond to this name in the themes.csv? Now use these <code>id</code>s and find the corresponding the sets in the sets.csv (Hint: you'll need to look for matches in the <code>theme_id</code> column)"
      ],
      "metadata": {
        "id": "cp1tMW6oIqvH",
        "colab_type": "text"
      }
    },
    {
      "cell_type": "code",
      "execution_count": null,
      "source": [],
      "outputs": [],
      "metadata": {
        "id": "3uN3wN5sIqvH",
        "colab_type": "code",
        "colab": {}
      }
    },
    {
      "cell_type": "code",
      "execution_count": null,
      "source": [],
      "outputs": [],
      "metadata": {
        "id": "xAO2XlQGIqvJ",
        "colab_type": "code",
        "colab": {}
      }
    },
    {
      "cell_type": "code",
      "execution_count": null,
      "source": [],
      "outputs": [],
      "metadata": {
        "id": "xYEDlY-_IqvL",
        "colab_type": "code",
        "colab": {}
      }
    },
    {
      "cell_type": "code",
      "execution_count": null,
      "source": [],
      "outputs": [],
      "metadata": {
        "scrolled": true,
        "id": "qBhckawNIqvN",
        "colab_type": "code",
        "colab": {}
      }
    },
    {
      "cell_type": "code",
      "execution_count": null,
      "source": [],
      "outputs": [],
      "metadata": {
        "scrolled": true,
        "id": "aqt07DSTIqvP",
        "colab_type": "code",
        "colab": {}
      }
    },
    {
      "cell_type": "markdown",
      "source": [
        "### Merging (i.e., Combining) DataFrames based on a Key\n"
      ],
      "metadata": {
        "id": "SmTCXWKKIqvQ",
        "colab_type": "text"
      }
    },
    {
      "cell_type": "code",
      "execution_count": null,
      "source": [],
      "outputs": [],
      "metadata": {
        "id": "esKQULhcIqvR",
        "colab_type": "code",
        "colab": {}
      }
    },
    {
      "cell_type": "code",
      "execution_count": null,
      "source": [],
      "outputs": [],
      "metadata": {
        "id": "i0LobgIvIqvT",
        "colab_type": "code",
        "colab": {}
      }
    },
    {
      "cell_type": "code",
      "execution_count": null,
      "source": [],
      "outputs": [],
      "metadata": {
        "id": "I7UMP7VXIqvU",
        "colab_type": "code",
        "colab": {}
      }
    }
  ]
}