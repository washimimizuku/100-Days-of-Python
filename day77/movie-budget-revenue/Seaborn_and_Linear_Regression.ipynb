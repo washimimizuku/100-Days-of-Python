{
  "cells": [
    {
      "cell_type": "markdown",
      "metadata": {
        "id": "gltiGJhvrzaL"
      },
      "source": [
        "# Introduction\n",
        "\n",
        "Do higher film budgets lead to more box office revenue? Let's find out if there's a relationship using the movie budgets and financial performance data that I've scraped from [the-numbers.com](https://www.the-numbers.com/movie/budgets) on **May 1st, 2018**. \n",
        "\n",
        "<img src=https://i.imgur.com/kq7hrEh.png>"
      ]
    },
    {
      "cell_type": "markdown",
      "metadata": {
        "id": "zkLrvlKvtdih"
      },
      "source": [
        "# Import Statements"
      ]
    },
    {
      "cell_type": "code",
      "execution_count": 1,
      "metadata": {
        "id": "NpDk_q_Urroj"
      },
      "outputs": [],
      "source": [
        "import pandas as pd\n",
        "import matplotlib.pyplot as plt\n"
      ]
    },
    {
      "cell_type": "markdown",
      "metadata": {
        "id": "x5B-UDvXtnC6"
      },
      "source": [
        "# Notebook Presentation"
      ]
    },
    {
      "cell_type": "code",
      "execution_count": 2,
      "metadata": {
        "id": "nM_otvWztjpT"
      },
      "outputs": [],
      "source": [
        "pd.options.display.float_format = '{:,.2f}'.format\n",
        "\n",
        "from pandas.plotting import register_matplotlib_converters\n",
        "register_matplotlib_converters()"
      ]
    },
    {
      "cell_type": "markdown",
      "metadata": {
        "id": "v-fnwNYJtthe"
      },
      "source": [
        "# Read the Data"
      ]
    },
    {
      "cell_type": "code",
      "execution_count": 3,
      "metadata": {
        "id": "xhwvQQWitrf4"
      },
      "outputs": [],
      "source": [
        "data = pd.read_csv('data/cost_revenue_dirty.csv')"
      ]
    },
    {
      "cell_type": "markdown",
      "metadata": {
        "id": "tbg8_J5SuHhs"
      },
      "source": [
        "# Explore and Clean the Data"
      ]
    },
    {
      "cell_type": "markdown",
      "metadata": {
        "id": "xAtdcURCuL0Z"
      },
      "source": [
        "**Challenge**: Answer these questions about the dataset:\n",
        "1. How many rows and columns does the dataset contain?\n",
        "2. Are there any NaN values present?\n",
        "3. Are there any duplicate rows?\n",
        "4. What are the data types of the columns?"
      ]
    },
    {
      "cell_type": "code",
      "execution_count": 16,
      "metadata": {
        "id": "PV3KLBSVTMDN"
      },
      "outputs": [
        {
          "name": "stdout",
          "output_type": "stream",
          "text": [
            "(5391, 6)\n",
            "   Rank Release_Date                     Movie_Title USD_Production_Budget  \\\n",
            "0  5293     8/2/1915           The Birth of a Nation              $110,000   \n",
            "1  5140     5/9/1916                     Intolerance              $385,907   \n",
            "2  5230   12/24/1916    20,000 Leagues Under the Sea              $200,000   \n",
            "3  5299    9/17/1920  Over the Hill to the Poorhouse              $100,000   \n",
            "4  5222     1/1/1925                  The Big Parade              $245,000   \n",
            "\n",
            "  USD_Worldwide_Gross USD_Domestic_Gross  \n",
            "0         $11,000,000        $10,000,000  \n",
            "1                  $0                 $0  \n",
            "2          $8,000,000         $8,000,000  \n",
            "3          $3,000,000         $3,000,000  \n",
            "4         $22,000,000        $11,000,000  \n",
            "      Rank Release_Date                     Movie_Title USD_Production_Budget  \\\n",
            "5386  2950    10/8/2018                             Meg           $15,000,000   \n",
            "5387   126   12/18/2018                         Aquaman          $160,000,000   \n",
            "5388    96   12/31/2020                     Singularity          $175,000,000   \n",
            "5389  1119   12/31/2020          Hannibal the Conqueror           $50,000,000   \n",
            "5390  2517   12/31/2020  Story of Bonnie and Clyde, The           $20,000,000   \n",
            "\n",
            "     USD_Worldwide_Gross USD_Domestic_Gross  \n",
            "5386                  $0                 $0  \n",
            "5387                  $0                 $0  \n",
            "5388                  $0                 $0  \n",
            "5389                  $0                 $0  \n",
            "5390                  $0                 $0  \n"
          ]
        }
      ],
      "source": [
        "print(data.shape)\n",
        "print(data.head())\n",
        "print(data.tail())"
      ]
    },
    {
      "cell_type": "code",
      "execution_count": 17,
      "metadata": {},
      "outputs": [
        {
          "name": "stdout",
          "output_type": "stream",
          "text": [
            "NaN values present? False\n",
            "Duplicated values present? False\n",
            "Number of duplicated rows? 0\n"
          ]
        }
      ],
      "source": [
        "print(f'NaN values present? {data.isna().values.any()}')\n",
        "print(f'Duplicated values present? {data.duplicated().values.any()}')\n",
        "\n",
        "duplicated_rows = data[data.duplicated()]\n",
        "print(f'Number of duplicated rows? {len(duplicated_rows)}')"
      ]
    },
    {
      "cell_type": "code",
      "execution_count": 18,
      "metadata": {},
      "outputs": [
        {
          "name": "stdout",
          "output_type": "stream",
          "text": [
            "<class 'pandas.core.frame.DataFrame'>\n",
            "RangeIndex: 5391 entries, 0 to 5390\n",
            "Data columns (total 6 columns):\n",
            " #   Column                 Non-Null Count  Dtype \n",
            "---  ------                 --------------  ----- \n",
            " 0   Rank                   5391 non-null   int64 \n",
            " 1   Release_Date           5391 non-null   object\n",
            " 2   Movie_Title            5391 non-null   object\n",
            " 3   USD_Production_Budget  5391 non-null   object\n",
            " 4   USD_Worldwide_Gross    5391 non-null   object\n",
            " 5   USD_Domestic_Gross     5391 non-null   object\n",
            "dtypes: int64(1), object(5)\n",
            "memory usage: 252.8+ KB\n",
            "None\n"
          ]
        }
      ],
      "source": [
        "print(data.info())"
      ]
    },
    {
      "cell_type": "markdown",
      "metadata": {
        "id": "v8spadDNvpVG"
      },
      "source": [
        "### Data Type Conversions"
      ]
    },
    {
      "cell_type": "markdown",
      "metadata": {
        "id": "9F8KFST4ulrd"
      },
      "source": [
        "**Challenge**: Convert the `USD_Production_Budget`, `USD_Worldwide_Gross`, and `USD_Domestic_Gross` columns to a numeric format by removing `$` signs and `,`. \n",
        "<br>\n",
        "<br>\n",
        "Note that *domestic* in this context refers to the United States."
      ]
    },
    {
      "cell_type": "code",
      "execution_count": 19,
      "metadata": {
        "id": "BmdCbLf-TPXk"
      },
      "outputs": [
        {
          "name": "stderr",
          "output_type": "stream",
          "text": [
            "/var/folders/lc/v1y49vhs6kn7_kcwhy4rx0pm0000gp/T/ipykernel_10365/1970920549.py:9: FutureWarning: The default value of regex will change from True to False in a future version. In addition, single character regular expressions will *not* be treated as literal strings when regex=True.\n",
            "  data[col] = data[col].astype(str).str.replace(char, \"\")\n"
          ]
        }
      ],
      "source": [
        "chars_to_remove = [',', '$']\n",
        "columns_to_clean = ['USD_Production_Budget', \n",
        "                    'USD_Worldwide_Gross',\n",
        "                    'USD_Domestic_Gross']\n",
        "\n",
        "for col in columns_to_clean:\n",
        "    for char in chars_to_remove:\n",
        "        # Replace each character with an empty string\n",
        "        data[col] = data[col].astype(str).str.replace(char, \"\")\n",
        "    # Convert column to a numeric data type\n",
        "    data[col] = pd.to_numeric(data[col])"
      ]
    },
    {
      "cell_type": "markdown",
      "metadata": {
        "id": "cA01iJHkvWhl"
      },
      "source": [
        "**Challenge**: Convert the `Release_Date` column to a Pandas Datetime type. "
      ]
    },
    {
      "cell_type": "code",
      "execution_count": 20,
      "metadata": {
        "id": "Pq1WfvRnTRU6"
      },
      "outputs": [
        {
          "name": "stdout",
          "output_type": "stream",
          "text": [
            "   Rank Release_Date                     Movie_Title  USD_Production_Budget  \\\n",
            "0  5293   1915-08-02           The Birth of a Nation                 110000   \n",
            "1  5140   1916-05-09                     Intolerance                 385907   \n",
            "2  5230   1916-12-24    20,000 Leagues Under the Sea                 200000   \n",
            "3  5299   1920-09-17  Over the Hill to the Poorhouse                 100000   \n",
            "4  5222   1925-01-01                  The Big Parade                 245000   \n",
            "\n",
            "   USD_Worldwide_Gross  USD_Domestic_Gross  \n",
            "0             11000000            10000000  \n",
            "1                    0                   0  \n",
            "2              8000000             8000000  \n",
            "3              3000000             3000000  \n",
            "4             22000000            11000000  \n"
          ]
        }
      ],
      "source": [
        "data.Release_Date = pd.to_datetime(data.Release_Date)\n",
        "print(data.head())"
      ]
    },
    {
      "cell_type": "code",
      "execution_count": 21,
      "metadata": {},
      "outputs": [
        {
          "name": "stdout",
          "output_type": "stream",
          "text": [
            "<class 'pandas.core.frame.DataFrame'>\n",
            "RangeIndex: 5391 entries, 0 to 5390\n",
            "Data columns (total 6 columns):\n",
            " #   Column                 Non-Null Count  Dtype         \n",
            "---  ------                 --------------  -----         \n",
            " 0   Rank                   5391 non-null   int64         \n",
            " 1   Release_Date           5391 non-null   datetime64[ns]\n",
            " 2   Movie_Title            5391 non-null   object        \n",
            " 3   USD_Production_Budget  5391 non-null   int64         \n",
            " 4   USD_Worldwide_Gross    5391 non-null   int64         \n",
            " 5   USD_Domestic_Gross     5391 non-null   int64         \n",
            "dtypes: datetime64[ns](1), int64(4), object(1)\n",
            "memory usage: 252.8+ KB\n",
            "None\n"
          ]
        }
      ],
      "source": [
        "print(data.info())"
      ]
    },
    {
      "cell_type": "markdown",
      "metadata": {
        "id": "NkwmJO3tvt5i"
      },
      "source": [
        "### Descriptive Statistics"
      ]
    },
    {
      "cell_type": "markdown",
      "metadata": {
        "id": "bnb54thrvx5r"
      },
      "source": [
        "**Challenge**: \n",
        "\n",
        "1. What is the average production budget of the films in the data set?\n",
        "2. What is the average worldwide gross revenue of films?\n",
        "3. What were the minimums for worldwide and domestic revenue?\n",
        "4. Are the bottom 25% of films actually profitable or do they lose money?\n",
        "5. What are the highest production budget and highest worldwide gross revenue of any film?\n",
        "6. How much revenue did the lowest and highest budget films make?"
      ]
    },
    {
      "cell_type": "code",
      "execution_count": 22,
      "metadata": {
        "id": "8G5_FATFTTtb"
      },
      "outputs": [
        {
          "name": "stdout",
          "output_type": "stream",
          "text": [
            "          Rank  USD_Production_Budget  USD_Worldwide_Gross  USD_Domestic_Gross\n",
            "count 5,391.00               5,391.00             5,391.00            5,391.00\n",
            "mean  2,696.00          31,113,737.58        88,855,421.96       41,235,519.44\n",
            "std   1,556.39          40,523,796.88       168,457,757.00       66,029,346.27\n",
            "min       1.00               1,100.00                 0.00                0.00\n",
            "25%   1,348.50           5,000,000.00         3,865,206.00        1,330,901.50\n",
            "50%   2,696.00          17,000,000.00        27,450,453.00       17,192,205.00\n",
            "75%   4,043.50          40,000,000.00        96,454,455.00       52,343,687.00\n",
            "max   5,391.00         425,000,000.00     2,783,918,982.00      936,662,225.00\n"
          ]
        }
      ],
      "source": [
        "print(data.describe())"
      ]
    },
    {
      "cell_type": "code",
      "execution_count": 23,
      "metadata": {},
      "outputs": [
        {
          "name": "stdout",
          "output_type": "stream",
          "text": [
            "      Rank Release_Date        Movie_Title  USD_Production_Budget  \\\n",
            "2427  5391   2005-05-08  My Date With Drew                   1100   \n",
            "\n",
            "      USD_Worldwide_Gross  USD_Domestic_Gross  \n",
            "2427               181041              181041  \n"
          ]
        }
      ],
      "source": [
        "print(data[data.USD_Production_Budget == 1100.00])"
      ]
    },
    {
      "cell_type": "code",
      "execution_count": 24,
      "metadata": {},
      "outputs": [
        {
          "name": "stdout",
          "output_type": "stream",
          "text": [
            "      Rank Release_Date Movie_Title  USD_Production_Budget  \\\n",
            "3529     1   2009-12-18      Avatar              425000000   \n",
            "\n",
            "      USD_Worldwide_Gross  USD_Domestic_Gross  \n",
            "3529           2783918982           760507625  \n"
          ]
        }
      ],
      "source": [
        "print(data[data.USD_Production_Budget == 425000000.00])"
      ]
    },
    {
      "cell_type": "markdown",
      "metadata": {
        "id": "Cj-ug32JyEhp"
      },
      "source": [
        "# Investigating the Zero Revenue Films"
      ]
    },
    {
      "cell_type": "markdown",
      "metadata": {
        "id": "U9hm-pb4xTjY"
      },
      "source": [
        "**Challenge** How many films grossed $0 domestically (i.e., in the United States)? What were the highest budget films that grossed nothing?"
      ]
    },
    {
      "cell_type": "code",
      "execution_count": 28,
      "metadata": {
        "id": "MXuRYdy0TWkt"
      },
      "outputs": [
        {
          "name": "stdout",
          "output_type": "stream",
          "text": [
            "Number of films that grossed $0 domestically 512\n",
            "      Rank Release_Date                         Movie_Title  \\\n",
            "5388    96   2020-12-31                         Singularity   \n",
            "5387   126   2018-12-18                             Aquaman   \n",
            "5384   321   2018-09-03                   A Wrinkle in Time   \n",
            "5385   366   2018-10-08                      Amusement Park   \n",
            "5090   556   2015-12-31  Don Gato, el inicio de la pandilla   \n",
            "...    ...          ...                                 ...   \n",
            "4787  5371   2014-12-31                Stories of Our Lives   \n",
            "3056  5374   2007-12-31                         Tin Can Man   \n",
            "4907  5381   2015-05-19                    Family Motocross   \n",
            "5006  5389   2015-09-29             Signed Sealed Delivered   \n",
            "5007  5390   2015-09-29                A Plague So Pleasant   \n",
            "\n",
            "      USD_Production_Budget  USD_Worldwide_Gross  USD_Domestic_Gross  \n",
            "5388              175000000                    0                   0  \n",
            "5387              160000000                    0                   0  \n",
            "5384              103000000                    0                   0  \n",
            "5385              100000000                    0                   0  \n",
            "5090               80000000              4547660                   0  \n",
            "...                     ...                  ...                 ...  \n",
            "4787                  15000                    0                   0  \n",
            "3056                  12000                    0                   0  \n",
            "4907                  10000                    0                   0  \n",
            "5006                   5000                    0                   0  \n",
            "5007                   1400                    0                   0  \n",
            "\n",
            "[512 rows x 6 columns]\n"
          ]
        }
      ],
      "source": [
        "zero_domestic = data[data.USD_Domestic_Gross == 0]\n",
        "print(f'Number of films that grossed $0 domestically {len(zero_domestic)}')\n",
        "print(zero_domestic.sort_values('USD_Production_Budget', ascending=False))\n"
      ]
    },
    {
      "cell_type": "markdown",
      "metadata": {
        "id": "mY8SAwI0x73b"
      },
      "source": [
        "**Challenge**: How many films grossed $0 worldwide? What are the highest budget films that had no revenue internationally?"
      ]
    },
    {
      "cell_type": "code",
      "execution_count": 31,
      "metadata": {
        "id": "VpfocexxTXym"
      },
      "outputs": [
        {
          "name": "stdout",
          "output_type": "stream",
          "text": [
            "Number of films that grossed $0 worldwide 357\n",
            "      Rank Release_Date              Movie_Title  USD_Production_Budget  \\\n",
            "5388    96   2020-12-31              Singularity              175000000   \n",
            "5387   126   2018-12-18                  Aquaman              160000000   \n",
            "5384   321   2018-09-03        A Wrinkle in Time              103000000   \n",
            "5385   366   2018-10-08           Amusement Park              100000000   \n",
            "5058   880   2015-11-12         The Ridiculous 6               60000000   \n",
            "...    ...          ...                      ...                    ...   \n",
            "4787  5371   2014-12-31     Stories of Our Lives                  15000   \n",
            "3056  5374   2007-12-31              Tin Can Man                  12000   \n",
            "4907  5381   2015-05-19         Family Motocross                  10000   \n",
            "5006  5389   2015-09-29  Signed Sealed Delivered                   5000   \n",
            "5007  5390   2015-09-29     A Plague So Pleasant                   1400   \n",
            "\n",
            "      USD_Worldwide_Gross  USD_Domestic_Gross  \n",
            "5388                    0                   0  \n",
            "5387                    0                   0  \n",
            "5384                    0                   0  \n",
            "5385                    0                   0  \n",
            "5058                    0                   0  \n",
            "...                   ...                 ...  \n",
            "4787                    0                   0  \n",
            "3056                    0                   0  \n",
            "4907                    0                   0  \n",
            "5006                    0                   0  \n",
            "5007                    0                   0  \n",
            "\n",
            "[357 rows x 6 columns]\n"
          ]
        }
      ],
      "source": [
        "zero_worldwide = data[data.USD_Worldwide_Gross == 0]\n",
        "print(f'Number of films that grossed $0 worldwide {len(zero_worldwide)}')\n",
        "print(zero_worldwide.sort_values('USD_Production_Budget', ascending=False))"
      ]
    },
    {
      "cell_type": "markdown",
      "metadata": {
        "id": "eXUDzWpeyV2f"
      },
      "source": [
        "### Filtering on Multiple Conditions"
      ]
    },
    {
      "cell_type": "code",
      "execution_count": null,
      "metadata": {
        "id": "dLd3eeD9TZZ9"
      },
      "outputs": [],
      "source": []
    },
    {
      "cell_type": "markdown",
      "metadata": {
        "id": "YruPjqLVPuiB"
      },
      "source": [
        "**Challenge**: Use the [`.query()` function](https://pandas.pydata.org/pandas-docs/stable/reference/api/pandas.DataFrame.query.html) to accomplish the same thing. Create a subset for international releases that had some worldwide gross revenue, but made zero revenue in the United States. \n",
        "\n",
        "Hint: This time you'll have to use the `and` keyword."
      ]
    },
    {
      "cell_type": "code",
      "execution_count": null,
      "metadata": {
        "id": "Xvu-jTCwTavg"
      },
      "outputs": [],
      "source": []
    },
    {
      "cell_type": "markdown",
      "metadata": {
        "id": "EM-FTE4OZhfr"
      },
      "source": [
        "### Unreleased Films\n",
        "\n",
        "**Challenge**:\n",
        "* Identify which films were not released yet as of the time of data collection (May 1st, 2018).\n",
        "* How many films are included in the dataset that have not yet had a chance to be screened in the box office? \n",
        "* Create another DataFrame called data_clean that does not include these films. "
      ]
    },
    {
      "cell_type": "code",
      "execution_count": 4,
      "metadata": {
        "id": "PIukYVY9Zpxu"
      },
      "outputs": [],
      "source": [
        "# Date of Data Collection\n",
        "scrape_date = pd.Timestamp('2018-5-1')"
      ]
    },
    {
      "cell_type": "code",
      "execution_count": null,
      "metadata": {
        "id": "OAI0VsM3Tc6v"
      },
      "outputs": [],
      "source": []
    },
    {
      "cell_type": "markdown",
      "metadata": {
        "id": "khrJcXlGZWZO"
      },
      "source": [
        "### Films that Lost Money\n",
        "\n",
        "**Challenge**: \n",
        "What is the percentage of films where the production costs exceeded the worldwide gross revenue? "
      ]
    },
    {
      "cell_type": "code",
      "execution_count": null,
      "metadata": {
        "id": "7uW_U9StTgvZ"
      },
      "outputs": [],
      "source": []
    },
    {
      "cell_type": "markdown",
      "metadata": {
        "id": "cfJUL3WwyiDy"
      },
      "source": [
        "# Seaborn for Data Viz: Bubble Charts"
      ]
    },
    {
      "cell_type": "code",
      "execution_count": null,
      "metadata": {
        "id": "YXa3bp1uTiSS"
      },
      "outputs": [],
      "source": []
    },
    {
      "cell_type": "markdown",
      "metadata": {
        "id": "e7NIOiL2y3en"
      },
      "source": [
        "### Plotting Movie Releases over Time\n",
        "\n",
        "**Challenge**: Try to create the following Bubble Chart:\n",
        "\n",
        "<img src=https://i.imgur.com/8fUn9T6.png>\n",
        "\n"
      ]
    },
    {
      "cell_type": "code",
      "execution_count": null,
      "metadata": {
        "id": "OT0D-i3HTmsB"
      },
      "outputs": [],
      "source": []
    },
    {
      "cell_type": "markdown",
      "metadata": {
        "id": "r_2hFz9py84b"
      },
      "source": [
        "# Converting Years to Decades Trick\n",
        "\n",
        "**Challenge**: Create a column in `data_clean` that has the decade of the release. \n",
        "\n",
        "<img src=https://i.imgur.com/0VEfagw.png width=650> \n",
        "\n",
        "Here's how: \n",
        "1. Create a [`DatetimeIndex` object](https://pandas.pydata.org/pandas-docs/stable/reference/api/pandas.DatetimeIndex.html) from the Release_Date column. \n",
        "2. Grab all the years from the `DatetimeIndex` object using the `.year` property.\n",
        "<img src=https://i.imgur.com/5m06Ach.png width=650>\n",
        "3. Use floor division `//` to convert the year data to the decades of the films.\n",
        "4. Add the decades as a `Decade` column to the `data_clean` DataFrame."
      ]
    },
    {
      "cell_type": "code",
      "execution_count": null,
      "metadata": {
        "id": "lak08IPMTn-j"
      },
      "outputs": [],
      "source": []
    },
    {
      "cell_type": "markdown",
      "metadata": {
        "id": "q-X7NK_9zIz9"
      },
      "source": [
        "### Separate the \"old\" (before 1969) and \"New\" (1970s onwards) Films\n",
        "\n",
        "**Challenge**: Create two new DataFrames: `old_films` and `new_films`\n",
        "* `old_films` should include all the films before 1969 (up to and including 1969)\n",
        "* `new_films` should include all the films from 1970 onwards\n",
        "* How many films were released prior to 1970?\n",
        "* What was the most expensive film made prior to 1970?"
      ]
    },
    {
      "cell_type": "code",
      "execution_count": null,
      "metadata": {
        "id": "qe93nMcBTqQz"
      },
      "outputs": [],
      "source": []
    },
    {
      "cell_type": "markdown",
      "metadata": {
        "id": "msXABzF3zW7e"
      },
      "source": [
        "# Seaborn Regression Plots"
      ]
    },
    {
      "cell_type": "code",
      "execution_count": null,
      "metadata": {
        "id": "2ajPcWMJTsom"
      },
      "outputs": [],
      "source": []
    },
    {
      "cell_type": "markdown",
      "metadata": {
        "id": "6k4MeLmxWFwX"
      },
      "source": [
        "**Challenge**: Use Seaborn's `.regplot()` to show the scatter plot and linear regression line against the `new_films`. \n",
        "<br>\n",
        "<br>\n",
        "Style the chart\n",
        "\n",
        "* Put the chart on a `'darkgrid'`.\n",
        "* Set limits on the axes so that they don't show negative values.\n",
        "* Label the axes on the plot \"Revenue in \\$ billions\" and \"Budget in \\$ millions\".\n",
        "* Provide HEX colour codes for the plot and the regression line. Make the dots dark blue (#2f4b7c) and the line orange (#ff7c43).\n",
        "\n",
        "Interpret the chart\n",
        "\n",
        "* Do our data points for the new films align better or worse with the linear regression than for our older films?\n",
        "* Roughly how much would a film with a budget of $150 million make according to the regression line?"
      ]
    },
    {
      "cell_type": "code",
      "execution_count": null,
      "metadata": {
        "id": "6cOVsxqvTui2"
      },
      "outputs": [],
      "source": []
    },
    {
      "cell_type": "markdown",
      "metadata": {
        "id": "Q1SUPPMAzlVK"
      },
      "source": [
        "# Run Your Own Regression with scikit-learn\n",
        "\n",
        "$$ REV \\hat ENUE = \\theta _0 + \\theta _1 BUDGET$$"
      ]
    },
    {
      "cell_type": "code",
      "execution_count": null,
      "metadata": {
        "id": "QmX-wMMLTwBW"
      },
      "outputs": [],
      "source": []
    },
    {
      "cell_type": "markdown",
      "metadata": {
        "id": "o23E9iT1RHQ1"
      },
      "source": [
        "**Challenge**: Run a linear regression for the `old_films`. Calculate the intercept, slope and r-squared. How much of the variance in movie revenue does the linear model explain in this case?"
      ]
    },
    {
      "cell_type": "code",
      "execution_count": null,
      "metadata": {
        "id": "Sd43DJNDT0yQ"
      },
      "outputs": [],
      "source": []
    },
    {
      "cell_type": "code",
      "execution_count": null,
      "metadata": {
        "id": "ygKsLBx5Rs7t"
      },
      "outputs": [],
      "source": []
    },
    {
      "cell_type": "markdown",
      "metadata": {
        "id": "hoD3PeG75p78"
      },
      "source": [
        "# Use Your Model to Make a Prediction\n",
        "\n",
        "We just estimated the slope and intercept! Remember that our Linear Model has the following form:\n",
        "\n",
        "$$ REV \\hat ENUE = \\theta _0 + \\theta _1 BUDGET$$\n",
        "\n",
        "**Challenge**:  How much global revenue does our model estimate for a film with a budget of $350 million? "
      ]
    },
    {
      "cell_type": "code",
      "execution_count": null,
      "metadata": {
        "id": "fX4I4h5i5rgF"
      },
      "outputs": [],
      "source": []
    },
    {
      "cell_type": "code",
      "execution_count": null,
      "metadata": {
        "id": "fB2Yp8ln5qfO"
      },
      "outputs": [],
      "source": []
    }
  ],
  "metadata": {
    "colab": {
      "name": "Seaborn and Linear Regression (start).ipynb",
      "provenance": []
    },
    "interpreter": {
      "hash": "5d959113619a252bed9f3111b9862f5d040200830bd5861c13e7acc821d43d6b"
    },
    "kernelspec": {
      "display_name": "Python 3.9.7 64-bit ('100-days-of-python-b3X5F5AV': venv)",
      "name": "python3"
    },
    "language_info": {
      "codemirror_mode": {
        "name": "ipython",
        "version": 3
      },
      "file_extension": ".py",
      "mimetype": "text/x-python",
      "name": "python",
      "nbconvert_exporter": "python",
      "pygments_lexer": "ipython3",
      "version": "3.9.7"
    }
  },
  "nbformat": 4,
  "nbformat_minor": 0
}
